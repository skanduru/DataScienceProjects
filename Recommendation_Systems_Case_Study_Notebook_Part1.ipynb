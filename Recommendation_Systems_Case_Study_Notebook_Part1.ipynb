{
 "cells": [
  {
   "cell_type": "markdown",
   "metadata": {
    "id": "Cf3GloRNvOOG"
   },
   "source": [
    "# **Movie Recommendation System Part 1**\n",
    "\n",
    "---------------\n",
    "## **Context**\n",
    "---------------\n",
    "\n",
    "Online streaming platforms like **Netflix** have plenty of movies in their repository and if we can build a **Recommendation System** to recommend **relevant movies** to users, based on their **historical interactions**, this would **improve customer satisfaction** and hence, it will also improve the revenue of the platform. The techniques that we will learn here will not only be limited to movies, it can be any item for which you want to build a recommendation system.\n",
    "\n",
    "-----------------\n",
    "## **Objective**\n",
    "-----------------\n",
    "\n",
    "In this case study, we will build various recommendation systems: \n",
    "- Knowledge/Rank based recommendation system\n",
    "- Similarity-Based Collaborative filtering\n",
    "- Matrix Factorization Based Collaborative Filtering\n",
    "\n",
    "To demonstrate the above techniques, we are going to use the **ratings** dataset. \n",
    "\n",
    "-----------------\n",
    "## **Dataset**\n",
    "-----------------\n",
    "\n",
    "The **ratings** dataset contains the following attributes: \n",
    "- userId\n",
    "- movieId\n",
    "- rating\n",
    "- timestamp"
   ]
  },
  {
   "cell_type": "markdown",
   "metadata": {
    "id": "LK7MQEuw57Vp"
   },
   "source": [
    "Sometimes, the installation of the surprise library, which is used to build recommendation systems, faces issues in Jupyter. To avoid any issues, it is advised to use **Google Colab** for this case study.\n",
    "\n",
    "Let's start by mounting the Google drive on Colab."
   ]
  },
  {
   "cell_type": "code",
   "execution_count": 1,
   "metadata": {
    "colab": {
     "base_uri": "https://localhost:8080/"
    },
    "id": "UhP8cK1hRrNF",
    "outputId": "b84ba3d0-54f5-4d5c-f1a1-5a443a757d17"
   },
   "outputs": [],
   "source": [
    "# from google.colab import drive\n",
    "# drive.mount('/content/drive')"
   ]
  },
  {
   "cell_type": "markdown",
   "metadata": {
    "id": "9hczXgBkvOOG"
   },
   "source": [
    "## **Importing the necessary libraries and overview of the dataset**"
   ]
  },
  {
   "cell_type": "code",
   "execution_count": 2,
   "metadata": {
    "id": "Gem2ozi_vOOG"
   },
   "outputs": [],
   "source": [
    "import warnings                                 # Used to ignore the warning given as output of the code\n",
    "warnings.filterwarnings('ignore')\n",
    "\n",
    "import numpy as np                              # Basic libraries of python for numeric and dataframe computations\n",
    "import pandas as pd\n",
    "\n",
    "import matplotlib.pyplot as plt                 # Basic library for data visualization\n",
    "import seaborn as sns                           # Slightly advanced library for data visualization\n",
    "\n",
    "from collections import defaultdict             # A dictionary output that does not raise a key error\n",
    "\n",
    "from sklearn.metrics import mean_squared_error  # A performance metrics in sklearn"
   ]
  },
  {
   "cell_type": "markdown",
   "metadata": {
    "id": "ewHMWerQ2N9T"
   },
   "source": [
    "### **Loading the data**"
   ]
  },
  {
   "cell_type": "code",
   "execution_count": 3,
   "metadata": {
    "id": "EdQIx3OLvOOG"
   },
   "outputs": [],
   "source": [
    "# Importing the \"ratings.csv\" dataset\n",
    "# rating = pd.read_csv('/content/drive/MyDrive/ratings.csv')\n",
    "rating = pd.read_csv('ratings.csv')"
   ]
  },
  {
   "cell_type": "markdown",
   "metadata": {
    "id": "WAW3gTmB2N9a"
   },
   "source": [
    "Let's check the **info** of the data."
   ]
  },
  {
   "cell_type": "code",
   "execution_count": 4,
   "metadata": {
    "colab": {
     "base_uri": "https://localhost:8080/"
    },
    "id": "RENDc0fRaH9V",
    "outputId": "4662bbe8-2e7e-4ea1-c36b-0d2185ff03c3"
   },
   "outputs": [
    {
     "name": "stdout",
     "output_type": "stream",
     "text": [
      "<class 'pandas.core.frame.DataFrame'>\n",
      "RangeIndex: 100836 entries, 0 to 100835\n",
      "Data columns (total 4 columns):\n",
      " #   Column     Non-Null Count   Dtype  \n",
      "---  ------     --------------   -----  \n",
      " 0   userId     100836 non-null  int64  \n",
      " 1   movieId    100836 non-null  int64  \n",
      " 2   rating     100836 non-null  float64\n",
      " 3   timestamp  100836 non-null  int64  \n",
      "dtypes: float64(1), int64(3)\n",
      "memory usage: 3.1 MB\n"
     ]
    }
   ],
   "source": [
    "# Info of the dataframe\n",
    "rating.info()"
   ]
  },
  {
   "cell_type": "markdown",
   "metadata": {
    "id": "202Ux9MH2N9f"
   },
   "source": [
    "- In the ratings data, there are **100,836 rows** and **4 columns**.\n",
    "- All the columns are of **numeric data type**.\n",
    "- The data type of the timestamp column is int64 which is incorrect. We can convert this to DateTime format, but **we don't need a timestamp column for our analysis**. Hence, **we can drop this column**."
   ]
  },
  {
   "cell_type": "code",
   "execution_count": 5,
   "metadata": {
    "id": "fltadjTcvOOH"
   },
   "outputs": [],
   "source": [
    "# drop() is a method used to remove the desired columns/rows from a dataframe\n",
    "rating = rating.drop(['timestamp'], axis = 1)"
   ]
  },
  {
   "cell_type": "markdown",
   "metadata": {
    "id": "dK89RWVfaH9Y"
   },
   "source": [
    "**Now, let us see the top five records of the rating data.**"
   ]
  },
  {
   "cell_type": "code",
   "execution_count": 6,
   "metadata": {
    "colab": {
     "base_uri": "https://localhost:8080/",
     "height": 206
    },
    "id": "1Q6gs-IO2N9i",
    "outputId": "4099310f-306d-4518-ca8d-0c2fe599d74c"
   },
   "outputs": [
    {
     "data": {
      "text/html": [
       "<div>\n",
       "<style scoped>\n",
       "    .dataframe tbody tr th:only-of-type {\n",
       "        vertical-align: middle;\n",
       "    }\n",
       "\n",
       "    .dataframe tbody tr th {\n",
       "        vertical-align: top;\n",
       "    }\n",
       "\n",
       "    .dataframe thead th {\n",
       "        text-align: right;\n",
       "    }\n",
       "</style>\n",
       "<table border=\"1\" class=\"dataframe\">\n",
       "  <thead>\n",
       "    <tr style=\"text-align: right;\">\n",
       "      <th></th>\n",
       "      <th>userId</th>\n",
       "      <th>movieId</th>\n",
       "      <th>rating</th>\n",
       "    </tr>\n",
       "  </thead>\n",
       "  <tbody>\n",
       "    <tr>\n",
       "      <th>0</th>\n",
       "      <td>1</td>\n",
       "      <td>1</td>\n",
       "      <td>4.0</td>\n",
       "    </tr>\n",
       "    <tr>\n",
       "      <th>1</th>\n",
       "      <td>1</td>\n",
       "      <td>3</td>\n",
       "      <td>4.0</td>\n",
       "    </tr>\n",
       "    <tr>\n",
       "      <th>2</th>\n",
       "      <td>1</td>\n",
       "      <td>6</td>\n",
       "      <td>4.0</td>\n",
       "    </tr>\n",
       "    <tr>\n",
       "      <th>3</th>\n",
       "      <td>1</td>\n",
       "      <td>47</td>\n",
       "      <td>5.0</td>\n",
       "    </tr>\n",
       "    <tr>\n",
       "      <th>4</th>\n",
       "      <td>1</td>\n",
       "      <td>50</td>\n",
       "      <td>5.0</td>\n",
       "    </tr>\n",
       "  </tbody>\n",
       "</table>\n",
       "</div>"
      ],
      "text/plain": [
       "   userId  movieId  rating\n",
       "0       1        1     4.0\n",
       "1       1        3     4.0\n",
       "2       1        6     4.0\n",
       "3       1       47     5.0\n",
       "4       1       50     5.0"
      ]
     },
     "execution_count": 6,
     "metadata": {},
     "output_type": "execute_result"
    }
   ],
   "source": [
    "# head() is a method used to display the first n records of a dataframe, by default n=5.\n",
    "rating.head()"
   ]
  },
  {
   "cell_type": "markdown",
   "metadata": {
    "id": "fBZYy0HavOOH"
   },
   "source": [
    "## **Exploring the dataset**\n",
    "\n",
    "Let's explore the dataset and answer some basic data-related questions:"
   ]
  },
  {
   "cell_type": "markdown",
   "metadata": {
    "id": "UOBD03d9vOOH"
   },
   "source": [
    "#### **Q1. What is the total number of unique users?**"
   ]
  },
  {
   "cell_type": "code",
   "execution_count": 7,
   "metadata": {
    "colab": {
     "base_uri": "https://localhost:8080/"
    },
    "id": "RMpbsZGGvOOH",
    "outputId": "1b32ac9d-3b30-4e2b-98f6-1533070c7377"
   },
   "outputs": [
    {
     "data": {
      "text/plain": [
       "610"
      ]
     },
     "execution_count": 7,
     "metadata": {},
     "output_type": "execute_result"
    }
   ],
   "source": [
    "# Finding number of unique users by using nunique method\n",
    "rating['userId'].nunique()"
   ]
  },
  {
   "cell_type": "markdown",
   "metadata": {
    "id": "CI8gofnx2N9m"
   },
   "source": [
    "- There are **610 unique users** in the \"rating\" dataset."
   ]
  },
  {
   "cell_type": "markdown",
   "metadata": {
    "id": "GI1dAOv0vOOH"
   },
   "source": [
    "#### **Q2. What is the total number of unique movies?**"
   ]
  },
  {
   "cell_type": "code",
   "execution_count": 8,
   "metadata": {
    "colab": {
     "base_uri": "https://localhost:8080/"
    },
    "id": "9A6Qmo_6vOOH",
    "outputId": "650065b7-9500-4933-8f1d-52848ffd5899"
   },
   "outputs": [
    {
     "data": {
      "text/plain": [
       "9724"
      ]
     },
     "execution_count": 8,
     "metadata": {},
     "output_type": "execute_result"
    }
   ],
   "source": [
    "# Finding the number of unique movies\n",
    "rating['movieId'].nunique()"
   ]
  },
  {
   "cell_type": "markdown",
   "metadata": {
    "id": "mDWJghQ62N9o"
   },
   "source": [
    "- There are **9,724 unique movies** in the dataset.\n",
    "- As per the number of unique users and movies, there is a **possibility of 610 * 9724 = 59,31,640 ratings** in the dataset. But **we only have 100,836 ratings**, i.e., not every user has rated every movie in the dataset, which is quite understandable. This creates the possibility of building a recommendation system to recommend movies to the users which they have not interacted with."
   ]
  },
  {
   "cell_type": "markdown",
   "metadata": {
    "id": "mR9tzSzTvOOH"
   },
   "source": [
    "#### **Q3. Is there any movie that has been interacted with more than once by the same user?**"
   ]
  },
  {
   "cell_type": "code",
   "execution_count": 9,
   "metadata": {
    "colab": {
     "base_uri": "https://localhost:8080/",
     "height": 455
    },
    "id": "xstEDCVfvOOH",
    "outputId": "8076281f-0988-47ba-bd54-d30cd467060c"
   },
   "outputs": [
    {
     "data": {
      "text/html": [
       "<div>\n",
       "<style scoped>\n",
       "    .dataframe tbody tr th:only-of-type {\n",
       "        vertical-align: middle;\n",
       "    }\n",
       "\n",
       "    .dataframe tbody tr th {\n",
       "        vertical-align: top;\n",
       "    }\n",
       "\n",
       "    .dataframe thead th {\n",
       "        text-align: right;\n",
       "    }\n",
       "</style>\n",
       "<table border=\"1\" class=\"dataframe\">\n",
       "  <thead>\n",
       "    <tr style=\"text-align: right;\">\n",
       "      <th></th>\n",
       "      <th></th>\n",
       "      <th>rating</th>\n",
       "    </tr>\n",
       "    <tr>\n",
       "      <th>userId</th>\n",
       "      <th>movieId</th>\n",
       "      <th></th>\n",
       "    </tr>\n",
       "  </thead>\n",
       "  <tbody>\n",
       "    <tr>\n",
       "      <th rowspan=\"5\" valign=\"top\">1</th>\n",
       "      <th>1</th>\n",
       "      <td>1</td>\n",
       "    </tr>\n",
       "    <tr>\n",
       "      <th>3</th>\n",
       "      <td>1</td>\n",
       "    </tr>\n",
       "    <tr>\n",
       "      <th>6</th>\n",
       "      <td>1</td>\n",
       "    </tr>\n",
       "    <tr>\n",
       "      <th>47</th>\n",
       "      <td>1</td>\n",
       "    </tr>\n",
       "    <tr>\n",
       "      <th>50</th>\n",
       "      <td>1</td>\n",
       "    </tr>\n",
       "    <tr>\n",
       "      <th>...</th>\n",
       "      <th>...</th>\n",
       "      <td>...</td>\n",
       "    </tr>\n",
       "    <tr>\n",
       "      <th rowspan=\"5\" valign=\"top\">610</th>\n",
       "      <th>166534</th>\n",
       "      <td>1</td>\n",
       "    </tr>\n",
       "    <tr>\n",
       "      <th>168248</th>\n",
       "      <td>1</td>\n",
       "    </tr>\n",
       "    <tr>\n",
       "      <th>168250</th>\n",
       "      <td>1</td>\n",
       "    </tr>\n",
       "    <tr>\n",
       "      <th>168252</th>\n",
       "      <td>1</td>\n",
       "    </tr>\n",
       "    <tr>\n",
       "      <th>170875</th>\n",
       "      <td>1</td>\n",
       "    </tr>\n",
       "  </tbody>\n",
       "</table>\n",
       "<p>100836 rows × 1 columns</p>\n",
       "</div>"
      ],
      "text/plain": [
       "                rating\n",
       "userId movieId        \n",
       "1      1             1\n",
       "       3             1\n",
       "       6             1\n",
       "       47            1\n",
       "       50            1\n",
       "...                ...\n",
       "610    166534        1\n",
       "       168248        1\n",
       "       168250        1\n",
       "       168252        1\n",
       "       170875        1\n",
       "\n",
       "[100836 rows x 1 columns]"
      ]
     },
     "execution_count": 9,
     "metadata": {},
     "output_type": "execute_result"
    }
   ],
   "source": [
    "# Finding the frequency of movies rated by each user\n",
    "rating.groupby(['userId', 'movieId']).count()"
   ]
  },
  {
   "cell_type": "code",
   "execution_count": 10,
   "metadata": {
    "colab": {
     "base_uri": "https://localhost:8080/"
    },
    "id": "d1E2i5rZvOOI",
    "outputId": "591cc3ca-5316-403f-cb25-dbf369946eca"
   },
   "outputs": [
    {
     "data": {
      "text/plain": [
       "100836"
      ]
     },
     "execution_count": 10,
     "metadata": {},
     "output_type": "execute_result"
    }
   ],
   "source": [
    "# Finding the sum of ratings count by user-movie pair\n",
    "rating.groupby(['userId', 'movieId']).count()['rating'].sum()"
   ]
  },
  {
   "cell_type": "markdown",
   "metadata": {
    "id": "ynCEs7q3vOOI"
   },
   "source": [
    "- The **sum is equal to the total number of observations**, which implies that **there is only one interaction between a pair of a movie and a user**."
   ]
  },
  {
   "cell_type": "markdown",
   "metadata": {
    "id": "JQgjqRnevOOI"
   },
   "source": [
    "#### **Q4. Which one is the most interacted movie in the dataset?**"
   ]
  },
  {
   "cell_type": "code",
   "execution_count": 11,
   "metadata": {
    "colab": {
     "base_uri": "https://localhost:8080/"
    },
    "id": "4LBbXdoDvOOI",
    "outputId": "3d39ee19-e4fc-4aeb-dc96-af4b6e6dd592"
   },
   "outputs": [
    {
     "data": {
      "text/plain": [
       "356       329\n",
       "318       317\n",
       "296       307\n",
       "593       279\n",
       "2571      278\n",
       "         ... \n",
       "86279       1\n",
       "86922       1\n",
       "5962        1\n",
       "87660       1\n",
       "163981      1\n",
       "Name: movieId, Length: 9724, dtype: int64"
      ]
     },
     "execution_count": 11,
     "metadata": {},
     "output_type": "execute_result"
    }
   ],
   "source": [
    "# Counting the number of people who have watched a certain movie\n",
    "rating['movieId'].value_counts()"
   ]
  },
  {
   "cell_type": "markdown",
   "metadata": {
    "id": "PSo-c_XAvOOI"
   },
   "source": [
    "- The **movie with movieId 356 has been interacted by most users** which is **329** times.\n",
    "- But still, there is a possibility of 610-329 = 281 more interactions as we have 610 unique users in our dataset. For those 281 remaining users, we can build a recommendation system to predict who is most likely to interact with this movie.\n",
    "\n",
    "Also, out of these 329 interactions, we need to consider the distribution of ratings as well to check whether this movie is the most liked or most disliked movie."
   ]
  },
  {
   "cell_type": "code",
   "execution_count": 12,
   "metadata": {
    "colab": {
     "base_uri": "https://localhost:8080/",
     "height": 448
    },
    "id": "fVkc1FK22N9r",
    "outputId": "8b8fb776-44a5-4a84-b783-65aaff5f9601"
   },
   "outputs": [
    {
     "data": {
      "image/png": "[encoded data removed]",
      "text/plain": [
       "<Figure size 504x504 with 1 Axes>"
      ]
     },
     "metadata": {
      "needs_background": "light"
     },
     "output_type": "display_data"
    }
   ],
   "source": [
    "# Plotting distributions of ratings for 329 interactions with movieid 356\n",
    "\n",
    "# Let us fix the size of the figure\n",
    "plt.figure(figsize = (7, 7))\n",
    "\n",
    "rating[rating['movieId'] == 356]['rating'].value_counts().plot(kind = 'bar')\n",
    "\n",
    "# This gives a label to the variable on the x-axis\n",
    "plt.xlabel('Rating')\n",
    "\n",
    "# This gives a label to the variable on the y-axis\n",
    "plt.ylabel('Count')\n",
    "\n",
    "# This displays the plot\n",
    "plt.show()"
   ]
  },
  {
   "cell_type": "markdown",
   "metadata": {
    "id": "0pQn17ro2N9s"
   },
   "source": [
    "- We can see that **this movie has been liked by the majority of users**, as the count of ratings 5 and 4 is higher than the count of lower ratings. \n",
    "- There can be movies with very high interactions but the count of ratings 1 and 2 may be much higher than the count for ratings 4 or 5 which would imply that the movie is disliked by the majority of the users."
   ]
  },
  {
   "cell_type": "markdown",
   "metadata": {
    "id": "0kXJ_iTEvOOI"
   },
   "source": [
    "#### **Q5. Which user interacted the most with any movie in the dataset?**"
   ]
  },
  {
   "cell_type": "code",
   "execution_count": 13,
   "metadata": {
    "colab": {
     "base_uri": "https://localhost:8080/"
    },
    "id": "t7ehlMLDvOOI",
    "outputId": "1856ba89-640f-4f8f-9036-e730cc4f8589"
   },
   "outputs": [
    {
     "data": {
      "text/plain": [
       "414    2698\n",
       "599    2478\n",
       "474    2108\n",
       "448    1864\n",
       "274    1346\n",
       "       ... \n",
       "442      20\n",
       "569      20\n",
       "320      20\n",
       "576      20\n",
       "53       20\n",
       "Name: userId, Length: 610, dtype: int64"
      ]
     },
     "execution_count": 13,
     "metadata": {},
     "output_type": "execute_result"
    }
   ],
   "source": [
    "# Counting the number of movies each user has watched\n",
    "rating['userId'].value_counts()"
   ]
  },
  {
   "cell_type": "markdown",
   "metadata": {
    "id": "W-Sdna2ovOOI"
   },
   "source": [
    "- The user with **userId: 414** has interacted with the most number of movies, i.e., **2,698** times. \n",
    "- But still, there is a possibility of 9724 - 2698 = 7026 more interactions as we have 9724 unique movies in our dataset. For those **7026** remaining movies, we can build a recommendation system to predict which movies are most likely to be watched by this user."
   ]
  },
  {
   "cell_type": "markdown",
   "metadata": {
    "id": "lHReghdivOOI"
   },
   "source": [
    "#### **Q6. What is the distribution of the user-movie interactions in this dataset?**"
   ]
  },
  {
   "cell_type": "code",
   "execution_count": 14,
   "metadata": {
    "colab": {
     "base_uri": "https://localhost:8080/"
    },
    "id": "0XArWJ7l2N9v",
    "outputId": "ecc78bcf-e8f7-48e9-ff1b-d4f4b1d70ede"
   },
   "outputs": [
    {
     "data": {
      "text/plain": [
       "userId\n",
       "1       232\n",
       "2        29\n",
       "3        39\n",
       "4       216\n",
       "5        44\n",
       "       ... \n",
       "606    1115\n",
       "607     187\n",
       "608     831\n",
       "609      37\n",
       "610    1302\n",
       "Name: movieId, Length: 610, dtype: int64"
      ]
     },
     "execution_count": 14,
     "metadata": {},
     "output_type": "execute_result"
    }
   ],
   "source": [
    "# Finding user-movie interactions distribution\n",
    "count_interactions = rating.groupby('userId').count()['movieId']\n",
    "count_interactions"
   ]
  },
  {
   "cell_type": "markdown",
   "metadata": {
    "id": "CqFN5jDJvOOJ"
   },
   "source": [
    "## **Rank Based Recommendation System**"
   ]
  },
  {
   "cell_type": "markdown",
   "metadata": {
    "id": "W26vIRn1vOOJ"
   },
   "source": [
    "Rank-based recommendation systems provide recommendations based on the **most popular items**. This kind of recommendation system is useful when we have **cold start** problem. Cold start refers to the issue when we get a new user into the system and the machine is **not** able to recommend movies to him, as the user did not have any historical interactions available in the dataset. In those cases, we can use a rank-based recommendation system to recommend movies to the new user."
   ]
  },
  {
   "cell_type": "markdown",
   "metadata": {
    "id": "I3t4uyGlvOOK"
   },
   "source": [
    "To build the rank-based recommendation system, we take the **average** of all the ratings provided to each movie and then rank them based on their average rating."
   ]
  },
  {
   "cell_type": "code",
   "execution_count": 15,
   "metadata": {
    "id": "xuMR3XFIvOOK"
   },
   "outputs": [],
   "source": [
    "# Calculate average ratings for each movie\n",
    "average_rating = rating.groupby('movieId').mean()['rating']\n",
    "\n",
    "# Calculate the count of ratings for each movie\n",
    "count_rating = rating.groupby('movieId').count()['rating']\n",
    "\n",
    "# Making a dataframe with the count and average of ratings\n",
    "final_rating = pd.DataFrame({'avg_rating': average_rating, 'rating_count': count_rating})"
   ]
  },
  {
   "cell_type": "code",
   "execution_count": 16,
   "metadata": {
    "colab": {
     "base_uri": "https://localhost:8080/",
     "height": 238
    },
    "id": "J6NLX6FIvOOK",
    "outputId": "2a838a0d-3e84-47bd-e57e-368f7c0bb80c"
   },
   "outputs": [
    {
     "data": {
      "text/html": [
       "<div>\n",
       "<style scoped>\n",
       "    .dataframe tbody tr th:only-of-type {\n",
       "        vertical-align: middle;\n",
       "    }\n",
       "\n",
       "    .dataframe tbody tr th {\n",
       "        vertical-align: top;\n",
       "    }\n",
       "\n",
       "    .dataframe thead th {\n",
       "        text-align: right;\n",
       "    }\n",
       "</style>\n",
       "<table border=\"1\" class=\"dataframe\">\n",
       "  <thead>\n",
       "    <tr style=\"text-align: right;\">\n",
       "      <th></th>\n",
       "      <th>avg_rating</th>\n",
       "      <th>rating_count</th>\n",
       "    </tr>\n",
       "    <tr>\n",
       "      <th>movieId</th>\n",
       "      <th></th>\n",
       "      <th></th>\n",
       "    </tr>\n",
       "  </thead>\n",
       "  <tbody>\n",
       "    <tr>\n",
       "      <th>1</th>\n",
       "      <td>3.920930</td>\n",
       "      <td>215</td>\n",
       "    </tr>\n",
       "    <tr>\n",
       "      <th>2</th>\n",
       "      <td>3.431818</td>\n",
       "      <td>110</td>\n",
       "    </tr>\n",
       "    <tr>\n",
       "      <th>3</th>\n",
       "      <td>3.259615</td>\n",
       "      <td>52</td>\n",
       "    </tr>\n",
       "    <tr>\n",
       "      <th>4</th>\n",
       "      <td>2.357143</td>\n",
       "      <td>7</td>\n",
       "    </tr>\n",
       "    <tr>\n",
       "      <th>5</th>\n",
       "      <td>3.071429</td>\n",
       "      <td>49</td>\n",
       "    </tr>\n",
       "  </tbody>\n",
       "</table>\n",
       "</div>"
      ],
      "text/plain": [
       "         avg_rating  rating_count\n",
       "movieId                          \n",
       "1          3.920930           215\n",
       "2          3.431818           110\n",
       "3          3.259615            52\n",
       "4          2.357143             7\n",
       "5          3.071429            49"
      ]
     },
     "execution_count": 16,
     "metadata": {},
     "output_type": "execute_result"
    }
   ],
   "source": [
    "# First 5 records of the final_rating dataset\n",
    "final_rating.head()"
   ]
  },
  {
   "cell_type": "markdown",
   "metadata": {
    "id": "Pv31nHm_2N9y"
   },
   "source": [
    "Now, let's create a function to find the **top n movies** for a recommendation based on the average ratings of movies. We can also add a **threshold for a minimum number of interactions** for a movie to be considered for recommendation. "
   ]
  },
  {
   "cell_type": "code",
   "execution_count": 17,
   "metadata": {
    "id": "Fy0SbxnevOOK"
   },
   "outputs": [],
   "source": [
    "# It gives top n movies among those being watched for more than min_interactions\n",
    "def top_n_movies(data, n, min_interaction = 100):\n",
    "    \n",
    "    # Finding movies with interactions greater than the minimum number of interactions\n",
    "    recommendations = data[data['rating_count'] > min_interaction]\n",
    "    \n",
    "    # Sorting values with respect to the average rating\n",
    "    recommendations = recommendations.sort_values(by = 'avg_rating', ascending = False)\n",
    "    \n",
    "    return recommendations.index[:n]"
   ]
  },
  {
   "cell_type": "markdown",
   "metadata": {
    "id": "fi9vhL4Z2N9y"
   },
   "source": [
    "We can **use this function with different n's and minimum interactions** to get movies to be recommended."
   ]
  },
  {
   "cell_type": "markdown",
   "metadata": {
    "id": "hkz4LlTpvOOK"
   },
   "source": [
    "### **Recommending top 5 movies with 50 minimum interactions based on popularity**"
   ]
  },
  {
   "cell_type": "code",
   "execution_count": 18,
   "metadata": {
    "colab": {
     "base_uri": "https://localhost:8080/"
    },
    "id": "u-JX_ES9vOOK",
    "outputId": "922a1553-2a47-4a07-a02d-08fa3bca273e"
   },
   "outputs": [
    {
     "data": {
      "text/plain": [
       "[318, 858, 2959, 1276, 750]"
      ]
     },
     "execution_count": 18,
     "metadata": {},
     "output_type": "execute_result"
    }
   ],
   "source": [
    "list(top_n_movies(final_rating, 5, 50))"
   ]
  },
  {
   "cell_type": "markdown",
   "metadata": {
    "id": "KRFTrsBVvOOK"
   },
   "source": [
    "### **Recommending top 5 movies with 100 minimum interactions based on popularity**"
   ]
  },
  {
   "cell_type": "code",
   "execution_count": 19,
   "metadata": {
    "colab": {
     "base_uri": "https://localhost:8080/"
    },
    "id": "U2wvxF2rvOOK",
    "outputId": "e4ce819a-680a-477f-95ab-6ea6b35d02dd"
   },
   "outputs": [
    {
     "data": {
      "text/plain": [
       "[318, 858, 2959, 1221, 48516]"
      ]
     },
     "execution_count": 19,
     "metadata": {},
     "output_type": "execute_result"
    }
   ],
   "source": [
    "list(top_n_movies(final_rating, 5, 100))"
   ]
  },
  {
   "cell_type": "markdown",
   "metadata": {
    "id": "_3SW8bLkvOOK"
   },
   "source": [
    "### **Recommending top 5 movies with 200 minimum interactions based on popularity**"
   ]
  },
  {
   "cell_type": "code",
   "execution_count": 20,
   "metadata": {
    "colab": {
     "base_uri": "https://localhost:8080/"
    },
    "id": "t6ziQvDgvOOK",
    "outputId": "b216ca3c-ff60-4fe9-e2a1-0a23ca07cbc2"
   },
   "outputs": [
    {
     "data": {
      "text/plain": [
       "[318, 2959, 50, 260, 527]"
      ]
     },
     "execution_count": 20,
     "metadata": {},
     "output_type": "execute_result"
    }
   ],
   "source": [
    "list(top_n_movies(final_rating, 5, 200))"
   ]
  },
  {
   "cell_type": "markdown",
   "metadata": {
    "id": "r4vrsunx2N91"
   },
   "source": [
    "Now that we have seen **how to apply the Rank-Based Recommendation System**, let's apply the **Collaborative Filtering Based Recommendation Systems**."
   ]
  },
  {
   "cell_type": "markdown",
   "metadata": {
    "id": "sJI5kiiGvOOK"
   },
   "source": [
    "## **Collaborative Filtering Based Recommendation System**"
   ]
  },
  {
   "cell_type": "markdown",
   "metadata": {
    "id": "wVjPUvj82N92"
   },
   "source": [
    "![collaborative_filtering.PNG](https://raw.githubusercontent.com/GL-ACADOPS/RS-IMAGES/main/collaborative_filtering.PNG)"
   ]
  },
  {
   "cell_type": "markdown",
   "metadata": {
    "id": "H4yaWX37vOOK"
   },
   "source": [
    "In the above **interactions matrix**, out of users B and C, which user is most likely to interact with the movie, \"The Terminal\"?"
   ]
  },
  {
   "cell_type": "markdown",
   "metadata": {
    "id": "QoSujZuuvOOK"
   },
   "source": [
    "In this type of recommendation system, `we do not need any information` about the user or item. We only need user-item interaction data to build a collaborative recommendation system. For example: \n",
    "<ol>\n",
    "    <li><b>Ratings</b> provided by users. For example, ratings of books on goodread, movie ratings on imdb, etc.</li>\n",
    "    <li><b>Likes</b> of users on different facebook posts, likes on youtube videos, etc.</li>\n",
    "    <li><b>Use/buying</b> of a product by users. For example, buying different items on e-commerce sites.</li>\n",
    "    <li><b>Reading</b> of articles by readers on various blogs.</li>\n",
    "</ol>"
   ]
  },
  {
   "cell_type": "markdown",
   "metadata": {
    "id": "A_3GtPzuvOOK"
   },
   "source": [
    "### **Types of Collaborative Filtering**"
   ]
  },
  {
   "cell_type": "markdown",
   "metadata": {
    "id": "igZX3WbqvOOK"
   },
   "source": [
    "- Similarity/Neighborhood-based\n",
    " * User-User similarity-based  \n",
    " * Item-Item similarity-based\n",
    "- Model-based"
   ]
  },
  {
   "cell_type": "markdown",
   "metadata": {
    "id": "0D3MuFHqvOOK"
   },
   "source": [
    "### **Building user-user similarity/neighborhood based Collaborative Filtering.**"
   ]
  },
  {
   "cell_type": "markdown",
   "metadata": {
    "id": "vyCEv8eJvOOK"
   },
   "source": [
    "![test_image](https://raw.githubusercontent.com/GL-ACADOPS/RS-IMAGES/main/cosine.PNG)"
   ]
  },
  {
   "cell_type": "markdown",
   "metadata": {
    "id": "skzc0N1_nVNB"
   },
   "source": [
    "### **Building a baseline user-user similarity based recommendation system**"
   ]
  },
  {
   "cell_type": "markdown",
   "metadata": {
    "id": "d4Uo_MYMnVNB"
   },
   "source": [
    "- Below, we are building a **similarity-based recommendation system** using `cosine` similarity and using **KNN to find similar users** which are the nearest neighbor to the given user.  \n",
    "- We will be using a new library - `surprise` to build the remaining models, let's first import the necessary classes and functions from this library.\n",
    "- Please use the following code to `install the surprise` library. You only do it **once** while running the code for the first time.\n",
    "\n",
    "**!pip install surprise**"
   ]
  },
  {
   "cell_type": "code",
   "execution_count": 21,
   "metadata": {
    "colab": {
     "base_uri": "https://localhost:8080/"
    },
    "id": "ZIT1ZPHsRnna",
    "outputId": "da4a9673-2eb8-47ec-8c04-cbd740e03b04"
   },
   "outputs": [
    {
     "name": "stdout",
     "output_type": "stream",
     "text": [
      "Defaulting to user installation because normal site-packages is not writeable\n",
      "Collecting surprise\n",
      "  Downloading surprise-0.1-py2.py3-none-any.whl (1.8 kB)\n",
      "Requirement already satisfied: scikit-surprise in /opt/miniconda3/lib/python3.8/site-packages (from surprise) (1.1.1)\n",
      "Requirement already satisfied: joblib>=0.11 in /opt/miniconda3/lib/python3.8/site-packages (from scikit-surprise->surprise) (1.1.0)\n",
      "Requirement already satisfied: numpy>=1.11.2 in /home/kanduru/.local/lib/python3.8/site-packages (from scikit-surprise->surprise) (1.20.1)\n",
      "Requirement already satisfied: scipy>=1.0.0 in /opt/miniconda3/lib/python3.8/site-packages (from scikit-surprise->surprise) (1.8.0)\n",
      "Requirement already satisfied: six>=1.10.0 in /usr/lib/python3/dist-packages (from scikit-surprise->surprise) (1.14.0)\n",
      "Installing collected packages: surprise\n",
      "Successfully installed surprise-0.1\n"
     ]
    }
   ],
   "source": [
    "# Installing the surprise library\n",
    "!pip install surprise"
   ]
  },
  {
   "cell_type": "code",
   "execution_count": 22,
   "metadata": {
    "id": "UJ1wEylUpexj"
   },
   "outputs": [],
   "source": [
    "# To compute the accuracy of models\n",
    "from surprise import accuracy\n",
    "\n",
    "# Class to parse a file containing ratings, data should be in structure - user; item; rating\n",
    "from surprise.reader import Reader\n",
    "\n",
    "# Class for loading datasets\n",
    "from surprise.dataset import Dataset\n",
    "\n",
    "# For tuning model hyperparameters\n",
    "from surprise.model_selection import GridSearchCV\n",
    "\n",
    "# For splitting the rating data in train and test datasets\n",
    "from surprise.model_selection import train_test_split\n",
    "\n",
    "# For implementing similarity-based recommendation system\n",
    "from surprise.prediction_algorithms.knns import KNNBasic\n",
    "\n",
    "# For implementing matrix factorization based recommendation system\n",
    "from surprise.prediction_algorithms.matrix_factorization import SVD\n",
    "\n",
    "# for implementing K-Fold cross-validation\n",
    "from surprise.model_selection import KFold\n",
    "\n",
    "# For implementing clustering-based recommendation system\n",
    "from surprise import CoClustering"
   ]
  },
  {
   "cell_type": "markdown",
   "metadata": {
    "id": "6nXkOONRaH9k"
   },
   "source": [
    "**Before building the recommendation systems, let's  go over some basic terminologies we are going to use:**"
   ]
  },
  {
   "cell_type": "markdown",
   "metadata": {
    "id": "SpKbR4MyaH9k"
   },
   "source": [
    "**Relevant item:** An item (product in this case) that is actually **rated higher than the threshold rating (here 3.5)** is relevant, and an item that is **actually rated lower than the threshold rating is a non-relevant item**.  \n",
    "\n",
    "**Recommended item:** An item whose **predicted rating is higher than the threshold (here 3.5) is a recommended item**, and an item whose **predicted rating is lower the threshold rating is a non-recommended item**, i.e., it will not be recommended to the user.  "
   ]
  },
  {
   "cell_type": "markdown",
   "metadata": {
    "id": "OS6inGjqaH9l"
   },
   "source": [
    "**False Negative (FN):** It is the **frequency of relevant items that are not recommended to the user**. If the relevant items are not recommended to the user, then the user might not buy the product/item. This would result in the **loss of opportunity for the service provider**, which they would like to minimize.\n",
    "\n",
    "**False Positive (FP):** It is the **frequency of recommended items that are actually not relevant**. In this case, the recommendation system is not doing a good job of finding and recommending the relevant items to the user. This would result in **loss of resources for the service provider**, which they would also like to minimize."
   ]
  },
  {
   "cell_type": "markdown",
   "metadata": {
    "id": "wzYc6rZOaH9l"
   },
   "source": [
    "**Recall:** It is the **fraction of actually relevant items that are recommended to the user**, i.e., if out of 10 relevant products, 6 are recommended to the user, then recall is 0.60. Higher the value of recall, better is the model. It is one of the metrics to do the performance assessment of classification models.\n",
    "\n",
    "**Precision:** It is the **fraction of recommended items that are relevant actually**, i.e., if out of 10 recommended items, 6 are found relevant by the user, then precision is 0.60. The higher the value of precision, better is the model. It is one of the metrics to do the performance assessment of classification models."
   ]
  },
  {
   "cell_type": "markdown",
   "metadata": {
    "id": "duzwblDuaH9l"
   },
   "source": [
    "**While making a recommendation system, it becomes customary to look at the performance of the model. In terms of how many recommendations are relevant and vice-versa, below are some most used performance metrics used in the assessment of recommendation systems.**"
   ]
  },
  {
   "cell_type": "markdown",
   "metadata": {
    "id": "d_u3dlp_aH9l"
   },
   "source": [
    "### **Precision@k, Recall@ k, and F1-score@k**"
   ]
  },
  {
   "cell_type": "markdown",
   "metadata": {
    "id": "IQI9TejsaH9l"
   },
   "source": [
    "**Precision@k** - It is the **fraction of recommended items that are relevant in `top k` predictions**. The value of k is the number of recommendations to be provided to the user. One can choose a variable number of recommendations to be given to a unique user.  \n",
    "\n",
    "**Recall@k** - It is the **fraction of relevant items that are recommended to the user in `top k` predictions**.\n",
    "\n",
    "**F1-score@k** - It is the **harmonic mean of Precision@k and Recall@k**. When **precision@k and recall@k both seem to be important**, it is useful to use this metric because it is representative of both of them. "
   ]
  },
  {
   "cell_type": "markdown",
   "metadata": {
    "id": "9tIiPwdXaH9m"
   },
   "source": [
    "### **Some useful functions**"
   ]
  },
  {
   "cell_type": "markdown",
   "metadata": {
    "id": "5xrAt-ELaH9m"
   },
   "source": [
    "- Below function takes the **recommendation model** as input and gives the **precision@k, recall@k, and F1-score@k** for that model.  \n",
    "- To compute **precision and recall**, **top k** predictions are taken under consideration for each user.\n",
    "- We will use the precision and recall to compute the F1-score."
   ]
  },
  {
   "cell_type": "code",
   "execution_count": 23,
   "metadata": {
    "id": "zEQjLeJ4aH9m"
   },
   "outputs": [],
   "source": [
    "def precision_recall_at_k(model, k = 10, threshold = 3.5):\n",
    "    \"\"\"Return precision and recall at k metrics for each user\"\"\"\n",
    "\n",
    "    # First map the predictions to each user\n",
    "    user_est_true = defaultdict(list)\n",
    "    \n",
    "    # Making predictions on the test data\n",
    "    predictions = model.test(testset)\n",
    "    \n",
    "    for uid, _, true_r, est, _ in predictions:\n",
    "        user_est_true[uid].append((est, true_r))\n",
    "\n",
    "    precisions = dict()\n",
    "    recalls = dict()\n",
    "    for uid, user_ratings in user_est_true.items():\n",
    "\n",
    "        # Sort user ratings by estimated value\n",
    "        user_ratings.sort(key = lambda x: x[0], reverse = True)\n",
    "\n",
    "        # Number of relevant items\n",
    "        n_rel = sum((true_r >= threshold) for (_, true_r) in user_ratings)\n",
    "\n",
    "        # Number of recommended items in top k\n",
    "        n_rec_k = sum((est >= threshold) for (est, _) in user_ratings[:k])\n",
    "\n",
    "        # Number of relevant and recommended items in top k\n",
    "        n_rel_and_rec_k = sum(((true_r >= threshold) and (est >= threshold))\n",
    "                              for (est, true_r) in user_ratings[:k])\n",
    "\n",
    "        # Precision@K: Proportion of recommended items that are relevant\n",
    "        # When n_rec_k is 0, Precision is undefined. Therefore, we are setting Precision to 0 when n_rec_k is 0\n",
    "\n",
    "        precisions[uid] = n_rel_and_rec_k / n_rec_k if n_rec_k != 0 else 0\n",
    "\n",
    "        # Recall@K: Proportion of relevant items that are recommended\n",
    "        # When n_rel is 0, Recall is undefined. Therefore, we are setting Recall to 0 when n_rel is 0\n",
    "\n",
    "        recalls[uid] = n_rel_and_rec_k / n_rel if n_rel != 0 else 0\n",
    "    \n",
    "    # Mean of all the predicted precisions are calculated\n",
    "    precision = round((sum(prec for prec in precisions.values()) / len(precisions)), 3)\n",
    "    \n",
    "    # Mean of all the predicted recalls are calculated\n",
    "    recall = round((sum(rec for rec in recalls.values()) / len(recalls)), 3)\n",
    "    \n",
    "    accuracy.rmse(predictions)\n",
    "    \n",
    "    print('Precision: ', precision) # Command to print the overall precision\n",
    "    \n",
    "    print('Recall: ', recall) # Command to print the overall recall\n",
    "    \n",
    "    print('F_1 score: ', round((2*precision*recall)/(precision+recall), 3)) # Formula to compute the F-1 score"
   ]
  },
  {
   "cell_type": "markdown",
   "metadata": {
    "id": "mw_WeyXsaH9n"
   },
   "source": [
    "- To compute **precision and recall**, a **threshold of 3.5 and k value of 10 is taken for the recommended and relevant ratings**. \n",
    "- In the **present case, precision and recall, both need to be optimized as the service provider would like to minimize both the losses discussed** above. Hence, the correct performance measure is the **F_1 score**. "
   ]
  },
  {
   "cell_type": "markdown",
   "metadata": {
    "id": "8hxjJMTwnVNB"
   },
   "source": [
    "Below we are converting the **`rating` dataset**, which is a **pandas dataframe**, into a **different format called `surprise.dataset.DatasetAutoFolds`**. This is required by the surprise library. To do this, we will be **using the classes `Reader` and `Dataset`**."
   ]
  },
  {
   "cell_type": "code",
   "execution_count": 24,
   "metadata": {
    "id": "rGfYDiOCpe4X"
   },
   "outputs": [],
   "source": [
    "# Instantiating Reader scale with expected rating scale\n",
    "reader = Reader(rating_scale = (0, 5))\n",
    "\n",
    "# Loading the rating dataset\n",
    "data = Dataset.load_from_df(rating[['userId', 'movieId', 'rating']], reader)\n",
    "\n",
    "# Splitting the data into train and test datasets\n",
    "trainset, testset = train_test_split(data, test_size = 0.2, random_state = 42)"
   ]
  },
  {
   "cell_type": "markdown",
   "metadata": {
    "id": "DmHTEt7TnVNC"
   },
   "source": [
    "- Now, we are **ready to build the first baseline similarity-based recommendation system** using the cosine similarity.\n",
    "- **KNNBasic** is an algorithm that is also **associated with the surprise package**. It is used to find the **desired similar items among a given set of items**."
   ]
  },
  {
   "cell_type": "code",
   "execution_count": 25,
   "metadata": {
    "colab": {
     "base_uri": "https://localhost:8080/"
    },
    "id": "vO3FL7iape8A",
    "outputId": "fddfd232-7153-4623-f884-31720d9e72f4"
   },
   "outputs": [
    {
     "name": "stdout",
     "output_type": "stream",
     "text": [
      "RMSE: 0.9823\n",
      "Precision:  0.757\n",
      "Recall:  0.542\n",
      "F_1 score:  0.632\n"
     ]
    }
   ],
   "source": [
    "# Declaring the similarity options\n",
    "sim_options = {'name': 'cosine',\n",
    "               'user_based': True}\n",
    "\n",
    "# KNN algorithm is used to find desired similar items\n",
    "sim_user_user = KNNBasic(sim_options = sim_options, verbose = False, random_state = 1)\n",
    "\n",
    "# Train the algorithm on the trainset, and predict ratings for the test set\n",
    "sim_user_user.fit(trainset)\n",
    "\n",
    "# Let us compute precision@k, recall@k, and F_1 score with k = 10\n",
    "precision_recall_at_k(sim_user_user)"
   ]
  },
  {
   "cell_type": "markdown",
   "metadata": {
    "id": "GBZcmvh3aH9o"
   },
   "source": [
    "- We have calculated **RMSE** to check **how far the overall predicted ratings** are from the **actual ratings**.\n",
    "- Intuition of Recall: We are getting a **recall of ~0.54**, which means out of **all the relevant movies 54% are recommended**. \n",
    "- Intuition of Precision: We are getting a **precision of ~ 0.76**, which means **out of all the recommended movies 76% are relevant**.\n",
    "- Here **F_1 score** of the **baseline model is ~0.63**. It indicates that **mostly recommended movies were relevant and relevant movies were recommended**. We will try to improve this later by using **GridSearchCV by tuning different hyperparameters** of this algorithm."
   ]
  },
  {
   "cell_type": "markdown",
   "metadata": {
    "id": "reFD0-nsnVNC"
   },
   "source": [
    "Now, let's **predict the rating for the user with `userId = 4` and the movie with `movieId = 10`** as shown below. Here, the user has already interacted or watched the movie with movieId 10."
   ]
  },
  {
   "cell_type": "code",
   "execution_count": 26,
   "metadata": {
    "colab": {
     "base_uri": "https://localhost:8080/"
    },
    "id": "Sxd23bZ9pe_x",
    "outputId": "fb70adab-2985-487e-b42c-a8bf797ec23e"
   },
   "outputs": [
    {
     "name": "stdout",
     "output_type": "stream",
     "text": [
      "user: 4          item: 10         r_ui = 4.00   est = 3.41   {'actual_k': 40, 'was_impossible': False}\n"
     ]
    },
    {
     "data": {
      "text/plain": [
       "Prediction(uid=4, iid=10, r_ui=4, est=3.4133289774831344, details={'actual_k': 40, 'was_impossible': False})"
      ]
     },
     "execution_count": 26,
     "metadata": {},
     "output_type": "execute_result"
    }
   ],
   "source": [
    "# Predicting rating for a sample user with an interacted movie\n",
    "sim_user_user.predict(4, 10, r_ui = 4, verbose = True)"
   ]
  },
  {
   "cell_type": "markdown",
   "metadata": {
    "id": "QuVbIR3SnVNE"
   },
   "source": [
    "- The above output shows that **the actual rating is not so far from the predicted rating for this user-item pair** by this **user-user-similarity-based baseline model**.\n",
    "- The **output** also contains **\"actual_k\"**. It is the value of **K in KNN** that is used while training the model. The default value is 40."
   ]
  },
  {
   "cell_type": "markdown",
   "metadata": {
    "id": "gdHhmBmOaH9p"
   },
   "source": [
    "Below is the **list of users who have seen the movie with movieId 3**."
   ]
  },
  {
   "cell_type": "code",
   "execution_count": 27,
   "metadata": {
    "colab": {
     "base_uri": "https://localhost:8080/"
    },
    "id": "vuVRmtcoaH9p",
    "outputId": "bebddf2c-5ec8-45a4-c18a-eeeb655bc169"
   },
   "outputs": [
    {
     "data": {
      "text/plain": [
       "array([  1,   6,  19,  32,  42,  43,  44,  51,  58,  64,  68,  91, 100,\n",
       "       102, 116, 117, 150, 151, 169, 179, 217, 226, 240, 269, 270, 288,\n",
       "       289, 294, 302, 307, 308, 321, 330, 337, 368, 410, 414, 448, 456,\n",
       "       470, 477, 480, 492, 501, 544, 552, 555, 588, 590, 594, 599, 608])"
      ]
     },
     "execution_count": 27,
     "metadata": {},
     "output_type": "execute_result"
    }
   ],
   "source": [
    "rating[rating.movieId == 3].userId.unique()"
   ]
  },
  {
   "cell_type": "markdown",
   "metadata": {
    "id": "L_zvYtrGaH9p"
   },
   "source": [
    "* As the above list does not contain user id 4, we can say that **user with user id 4 has not seen the movie with movieId 3**."
   ]
  },
  {
   "cell_type": "markdown",
   "metadata": {
    "id": "EXSgq8OEnVNE"
   },
   "source": [
    "Below, we are **predicting the rating for the same `userId = 4` but for a movie with which this user has not interacted yet, i.e., `movieId = 3`**. "
   ]
  },
  {
   "cell_type": "code",
   "execution_count": 28,
   "metadata": {
    "colab": {
     "base_uri": "https://localhost:8080/"
    },
    "id": "PbFcBj1PpfEV",
    "outputId": "da5a7888-cce6-43fb-bee9-4a9f965f6d30"
   },
   "outputs": [
    {
     "name": "stdout",
     "output_type": "stream",
     "text": [
      "user: 4          item: 3          r_ui = None   est = 3.26   {'actual_k': 40, 'was_impossible': False}\n"
     ]
    },
    {
     "data": {
      "text/plain": [
       "Prediction(uid=4, iid=3, r_ui=None, est=3.260929007645626, details={'actual_k': 40, 'was_impossible': False})"
      ]
     },
     "execution_count": 28,
     "metadata": {},
     "output_type": "execute_result"
    }
   ],
   "source": [
    "# Predicting rating for a sample user with a non interacted movie\n",
    "sim_user_user.predict(4, 3, verbose = True)"
   ]
  },
  {
   "cell_type": "markdown",
   "metadata": {
    "id": "cm2xqtcQnVNE"
   },
   "source": [
    "Above, we have **predicted the rating for this user-item pair** based on this user-user similarity-based baseline model."
   ]
  },
  {
   "cell_type": "markdown",
   "metadata": {
    "id": "ejjof6csnVNF"
   },
   "source": [
    "### **Improving similarity-based recommendation system by tuning its hyperparameters**"
   ]
  },
  {
   "cell_type": "markdown",
   "metadata": {
    "id": "x_kxe-_JnVNF"
   },
   "source": [
    "Below, we will be tuning hyperparameters for the `KNNBasic` algorithms. Let's try to understand some of the hyperparameters of this algorithm:"
   ]
  },
  {
   "cell_type": "markdown",
   "metadata": {
    "id": "p2j4VvfQnVNF"
   },
   "source": [
    "- **k** (int): The (max) number of neighbors to take into account for aggregation. The default value of k is 40.\n",
    "- **min_k** (int): The minimum number of neighbors to take into account for aggregation. If there are not enough neighbors, the prediction is set to the global mean of all ratings. The default value is 1.\n",
    "- **sim_options** (dict): A dictionary of options for the similarity measure. And there are four similarity measures available in surprise:\n",
    "    - cosine\n",
    "    - msd (default)\n",
    "    - Pearson\n",
    "    - Pearson baseline"
   ]
  },
  {
   "cell_type": "markdown",
   "metadata": {
    "id": "omYnkb0gSw6O"
   },
   "source": [
    "**Note:** GridSearchCV does not accept the metrics recall@k, precision@k, or F1 Score@k. As a result, we'll tune the model using RMSE."
   ]
  },
  {
   "cell_type": "code",
   "execution_count": 29,
   "metadata": {
    "colab": {
     "base_uri": "https://localhost:8080/"
    },
    "id": "di2g2rxiaH9t",
    "outputId": "99c2ffb4-49c7-4d03-a39c-acf4df33a6b9"
   },
   "outputs": [
    {
     "name": "stdout",
     "output_type": "stream",
     "text": [
      "0.9479903915227897\n",
      "{'k': 30, 'min_k': 3, 'sim_options': {'name': 'msd', 'user_based': True}}\n"
     ]
    }
   ],
   "source": [
    "# Setting up parameter grid to tune the hyperparameters\n",
    "param_grid = {'k': [30, 40, 50], 'min_k': [3, 6, 9],\n",
    "              'sim_options': {'name': ['msd', 'cosine'],\n",
    "                              'user_based': [True]}\n",
    "              }\n",
    "\n",
    "# Performing 3-Fold cross-validation to tune the hyperparameters\n",
    "gs = GridSearchCV(KNNBasic, param_grid, measures = ['rmse'], cv = 3, n_jobs = -1)\n",
    "\n",
    "# Fitting the model on data\n",
    "gs.fit(data)\n",
    "\n",
    "# Printing the best RMSE score\n",
    "print(gs.best_score['rmse'])\n",
    "\n",
    "# Printing the combination of parameters that gave the best RMSE score\n",
    "print(gs.best_params['rmse'])"
   ]
  },
  {
   "cell_type": "markdown",
   "metadata": {
    "id": "L2fHNvu7nVNF"
   },
   "source": [
    "Once the grid search is **complete**, we can get the **optimal values for each of those hyperparameters** as shown above."
   ]
  },
  {
   "cell_type": "markdown",
   "metadata": {
    "id": "NHWgxu_YnVNG"
   },
   "source": [
    "Now, let's build the **final model by using the optimal values of the hyperparameters**, which we received by using the **grid search cross-validation**."
   ]
  },
  {
   "cell_type": "code",
   "execution_count": 30,
   "metadata": {
    "colab": {
     "base_uri": "https://localhost:8080/"
    },
    "id": "PujRJA8X_JEJ",
    "outputId": "33d417bc-e660-4e15-d2cb-a359cfe96b57"
   },
   "outputs": [
    {
     "name": "stdout",
     "output_type": "stream",
     "text": [
      "RMSE: 0.9467\n",
      "Precision:  0.762\n",
      "Recall:  0.554\n",
      "F_1 score:  0.642\n"
     ]
    }
   ],
   "source": [
    "# Using the optimal similarity measure for user-user collaborative filtering\n",
    "sim_options = {'name': 'msd',\n",
    "               'user_based': True}\n",
    "\n",
    "# Creating an instance of KNNBasic with optimal hyperparameter values\n",
    "sim_user_user_optimized = KNNBasic(sim_options = sim_options, k = 30, min_k = 3, random_state = 1, verbose = False)\n",
    "\n",
    "# Training the algorithm on the trainset\n",
    "sim_user_user_optimized.fit(trainset)\n",
    "\n",
    "# Let us compute precision@k, recall@k, and F_1 score with k = 10\n",
    "precision_recall_at_k(sim_user_user_optimized)"
   ]
  },
  {
   "cell_type": "markdown",
   "metadata": {
    "id": "KPtU3H8uaH9u"
   },
   "source": [
    "- We can see from above that after tuning hyperparameters, **F_1 score of the tuned model has increased slightly in comparison to the baseline model**. Along with this, **the RMSE of the model has gone down as compared to the model before hyperparameter tuning**. Hence, we can say that the model performance has improved slightly after hyperparameter tuning."
   ]
  },
  {
   "cell_type": "markdown",
   "metadata": {
    "id": "YhcAXK0CnVNG"
   },
   "source": [
    "Let us now **predict the rating for the user with `userId = 4` and the movie with `movieId = 10` with the optimized model as shown below**."
   ]
  },
  {
   "cell_type": "code",
   "execution_count": 31,
   "metadata": {
    "colab": {
     "base_uri": "https://localhost:8080/"
    },
    "id": "FgV63lHiq1TV",
    "outputId": "f832667e-727c-46a9-df77-4199510a3d4b"
   },
   "outputs": [
    {
     "name": "stdout",
     "output_type": "stream",
     "text": [
      "user: 4          item: 10         r_ui = 4.00   est = 3.50   {'actual_k': 30, 'was_impossible': False}\n"
     ]
    },
    {
     "data": {
      "text/plain": [
       "Prediction(uid=4, iid=10, r_ui=4, est=3.497691535784751, details={'actual_k': 30, 'was_impossible': False})"
      ]
     },
     "execution_count": 31,
     "metadata": {},
     "output_type": "execute_result"
    }
   ],
   "source": [
    "sim_user_user_optimized.predict(4, 10, r_ui = 4, verbose = True)"
   ]
  },
  {
   "cell_type": "markdown",
   "metadata": {
    "id": "AMBeqeUtnVNG"
   },
   "source": [
    "- If we compare the predicted rating with the actual raring, we can say that the **predicted rating by the tuned model is closer to the actual rating in comparison to the prediction by the baseline model**."
   ]
  },
  {
   "cell_type": "markdown",
   "metadata": {
    "id": "P1JLqz6mnVNH"
   },
   "source": [
    "Below, we are predicting the rating for the same **`userId = 4`** but for a movie with which this user has **not interacted before**, i.e., `movieId = 3`, by using the **optimized model** as shown below."
   ]
  },
  {
   "cell_type": "code",
   "execution_count": 32,
   "metadata": {
    "colab": {
     "base_uri": "https://localhost:8080/"
    },
    "id": "HXO2Ztjhq1bN",
    "outputId": "1c9a8acc-1adc-44d2-e83b-397593cd0ce1"
   },
   "outputs": [
    {
     "name": "stdout",
     "output_type": "stream",
     "text": [
      "user: 4          item: 3          r_ui = None   est = 3.45   {'actual_k': 30, 'was_impossible': False}\n"
     ]
    },
    {
     "data": {
      "text/plain": [
       "Prediction(uid=4, iid=3, r_ui=None, est=3.4530529132024763, details={'actual_k': 30, 'was_impossible': False})"
      ]
     },
     "execution_count": 32,
     "metadata": {},
     "output_type": "execute_result"
    }
   ],
   "source": [
    "sim_user_user_optimized.predict(4, 3, verbose = True)"
   ]
  },
  {
   "cell_type": "markdown",
   "metadata": {
    "id": "op_zwO_FnVNH"
   },
   "source": [
    "### **Identifying similar users to a given user (nearest neighbors)**"
   ]
  },
  {
   "cell_type": "markdown",
   "metadata": {
    "id": "o2QsfqhanVNH"
   },
   "source": [
    "We can also find out **similar users to a given user** or its **nearest neighbors** based on this KNNBasic algorithm. Below, we are finding **the 5 most similar users to `userId = 4`** based on the **`msd` distance metric**."
   ]
  },
  {
   "cell_type": "code",
   "execution_count": 33,
   "metadata": {
    "colab": {
     "base_uri": "https://localhost:8080/"
    },
    "id": "evkmTb6P5HYO",
    "outputId": "a8125e4d-7e11-45b7-dc2e-21e641daad56"
   },
   "outputs": [
    {
     "data": {
      "text/plain": [
       "[89, 90, 91, 181, 230]"
      ]
     },
     "execution_count": 33,
     "metadata": {},
     "output_type": "execute_result"
    }
   ],
   "source": [
    "sim_user_user_optimized.get_neighbors(4, k = 5)"
   ]
  },
  {
   "cell_type": "markdown",
   "metadata": {
    "id": "Z0NsrX_anVNH"
   },
   "source": [
    "### **Implementing the recommendation algorithm based on optimized KNNBasic model**"
   ]
  },
  {
   "cell_type": "markdown",
   "metadata": {
    "id": "U3ESobDynVNI"
   },
   "source": [
    "Below we will be implementing a function where the input parameters are:\n",
    "\n",
    "- data: The **rating** dataset.\n",
    "- user_id: The user id **for which we want the recommendations**.\n",
    "- top_n: The **number of movies we want to recommend**.\n",
    "- algo: The algorithm we want to use **for predicting the ratings**.\n",
    "- The output of the function is a **set of top_n items** recommended for the given user_id based on the given algorithm."
   ]
  },
  {
   "cell_type": "code",
   "execution_count": 34,
   "metadata": {
    "id": "vW9V1Tk65HlY"
   },
   "outputs": [],
   "source": [
    "def get_recommendations(data, user_id, top_n, algo):\n",
    "    \n",
    "    # Creating an empty list to store the recommended movie ids\n",
    "    recommendations = []\n",
    "    \n",
    "    # Creating an user item interactions matrix\n",
    "    user_item_interactions_matrix = data.pivot(index = 'userId', columns = 'movieId', values = 'rating')\n",
    "    \n",
    "    # Extracting those movie IDs which the user ID has not interacted yet\n",
    "    non_interacted_movies = user_item_interactions_matrix.loc[user_id][user_item_interactions_matrix.loc[user_id].isnull()].index.tolist()\n",
    "    \n",
    "    # Looping through each of the movie IDs which user ID has not interacted yet\n",
    "    for item_id in non_interacted_movies:\n",
    "        \n",
    "        # Predicting the ratings for those non interacted movie IDs by this user\n",
    "        est = algo.predict(user_id, item_id).est\n",
    "        \n",
    "        # Appending the predicted ratings\n",
    "        recommendations.append((item_id, est))\n",
    "\n",
    "    # Sorting the predicted ratings in descending order\n",
    "    recommendations.sort(key = lambda x: x[1], reverse = True)\n",
    "\n",
    "    # Returing top n highest predicted rating movies for this user\n",
    "    return recommendations[:top_n]"
   ]
  },
  {
   "cell_type": "markdown",
   "metadata": {
    "id": "Oj_S7kh4nVNI"
   },
   "source": [
    "#### **Predicted top 5 movies for userId = 4 using the similarity-based recommendation system.**"
   ]
  },
  {
   "cell_type": "code",
   "execution_count": 35,
   "metadata": {
    "id": "qWbR85mI5Hrk"
   },
   "outputs": [],
   "source": [
    "# Making top 5 recommendations for userId 4 using the similarity-based recommendation system\n",
    "recommendations = get_recommendations(rating, 4, 5, sim_user_user_optimized)"
   ]
  },
  {
   "cell_type": "code",
   "execution_count": 36,
   "metadata": {
    "colab": {
     "base_uri": "https://localhost:8080/",
     "height": 206
    },
    "id": "b5WfIX0Z6_q2",
    "outputId": "e91fe421-0286-405b-dd3d-19fa622ff0e1"
   },
   "outputs": [
    {
     "data": {
      "text/html": [
       "<div>\n",
       "<style scoped>\n",
       "    .dataframe tbody tr th:only-of-type {\n",
       "        vertical-align: middle;\n",
       "    }\n",
       "\n",
       "    .dataframe tbody tr th {\n",
       "        vertical-align: top;\n",
       "    }\n",
       "\n",
       "    .dataframe thead th {\n",
       "        text-align: right;\n",
       "    }\n",
       "</style>\n",
       "<table border=\"1\" class=\"dataframe\">\n",
       "  <thead>\n",
       "    <tr style=\"text-align: right;\">\n",
       "      <th></th>\n",
       "      <th>movieId</th>\n",
       "      <th>predicted_ratings</th>\n",
       "    </tr>\n",
       "  </thead>\n",
       "  <tbody>\n",
       "    <tr>\n",
       "      <th>0</th>\n",
       "      <td>3404</td>\n",
       "      <td>5.000000</td>\n",
       "    </tr>\n",
       "    <tr>\n",
       "      <th>1</th>\n",
       "      <td>7121</td>\n",
       "      <td>5.000000</td>\n",
       "    </tr>\n",
       "    <tr>\n",
       "      <th>2</th>\n",
       "      <td>6460</td>\n",
       "      <td>4.844207</td>\n",
       "    </tr>\n",
       "    <tr>\n",
       "      <th>3</th>\n",
       "      <td>115122</td>\n",
       "      <td>4.813285</td>\n",
       "    </tr>\n",
       "    <tr>\n",
       "      <th>4</th>\n",
       "      <td>1178</td>\n",
       "      <td>4.808807</td>\n",
       "    </tr>\n",
       "  </tbody>\n",
       "</table>\n",
       "</div>"
      ],
      "text/plain": [
       "   movieId  predicted_ratings\n",
       "0     3404           5.000000\n",
       "1     7121           5.000000\n",
       "2     6460           4.844207\n",
       "3   115122           4.813285\n",
       "4     1178           4.808807"
      ]
     },
     "execution_count": 36,
     "metadata": {},
     "output_type": "execute_result"
    }
   ],
   "source": [
    "# Building the dataframe for above recommendations with columns \"movieId\" and \"predicted_ratings\"\n",
    "pd.DataFrame(recommendations, columns = ['movieId', 'predicted_ratings'])"
   ]
  },
  {
   "cell_type": "markdown",
   "metadata": {
    "id": "ghwEJY2e7INB"
   },
   "source": [
    "### **Correcting the Ratings and Ranking the above movies**"
   ]
  },
  {
   "cell_type": "markdown",
   "metadata": {
    "id": "rdQ3o2cdaH9y"
   },
   "source": [
    "While comparing the ratings of two movies, it is not only the **ratings** that describe the **likelihood of the user to interact with that movie**. Along with the rating, the **number of users who have watched that movie** also become important to consider. Due to this, we have calculated the **\"corrected_ratings\"** for each movie. Generally, higher the **\"rating_count\" of a movie, more reliable the rating is**. To interpret the above concept, a **movie rated 4 with rating_count 3 is less liked in comparison to a movie rated 3 with a rating count of 50**. It has been **empirically found that the likelihood of the movie is directly proportional to the inverse of the square root of the rating_count of the movie**."
   ]
  },
  {
   "cell_type": "code",
   "execution_count": 37,
   "metadata": {
    "id": "39Hs7ZbO9v3O"
   },
   "outputs": [],
   "source": [
    "def ranking_movies(recommendations, final_rating):\n",
    "\n",
    "  # Sort the movies based on ratings count\n",
    "  ranked_movies = final_rating.loc[[items[0] for items in recommendations]].sort_values('rating_count', ascending = False)[['rating_count']].reset_index()\n",
    "\n",
    "  # Merge with the recommended movies to get predicted ratings\n",
    "  ranked_movies = ranked_movies.merge(pd.DataFrame(recommendations, columns = ['movieId', 'predicted_ratings']), on = 'movieId', how = 'inner')\n",
    "\n",
    "  # Rank the movies based on corrected ratings\n",
    "  ranked_movies['corrected_ratings'] = ranked_movies['predicted_ratings'] - 1 / np.sqrt(ranked_movies['rating_count'])\n",
    "\n",
    "  # Sort the movies based on corrected ratings\n",
    "  ranked_movies = ranked_movies.sort_values('corrected_ratings', ascending = False)\n",
    "  \n",
    "  return ranked_movies"
   ]
  },
  {
   "cell_type": "markdown",
   "metadata": {
    "id": "rvPNIt6i89DY"
   },
   "source": [
    "**Note:** In the **above-corrected rating formula**, we can add the **quantity `1/np.sqrt(n)` instead of subtracting it to get more optimistic predictions**. But here we are **subtracting this quantity**, as there are some movies with ratings of 5 and **we can't have a rating more than 5 for a movie**."
   ]
  },
  {
   "cell_type": "code",
   "execution_count": 38,
   "metadata": {
    "colab": {
     "base_uri": "https://localhost:8080/",
     "height": 206
    },
    "id": "xoiAL_vH8miC",
    "outputId": "c5492b7f-d784-4f3b-8b47-aeef6c64bba5"
   },
   "outputs": [
    {
     "data": {
      "text/html": [
       "<div>\n",
       "<style scoped>\n",
       "    .dataframe tbody tr th:only-of-type {\n",
       "        vertical-align: middle;\n",
       "    }\n",
       "\n",
       "    .dataframe tbody tr th {\n",
       "        vertical-align: top;\n",
       "    }\n",
       "\n",
       "    .dataframe thead th {\n",
       "        text-align: right;\n",
       "    }\n",
       "</style>\n",
       "<table border=\"1\" class=\"dataframe\">\n",
       "  <thead>\n",
       "    <tr style=\"text-align: right;\">\n",
       "      <th></th>\n",
       "      <th>movieId</th>\n",
       "      <th>rating_count</th>\n",
       "      <th>predicted_ratings</th>\n",
       "      <th>corrected_ratings</th>\n",
       "    </tr>\n",
       "  </thead>\n",
       "  <tbody>\n",
       "    <tr>\n",
       "      <th>1</th>\n",
       "      <td>3404</td>\n",
       "      <td>6</td>\n",
       "      <td>5.000000</td>\n",
       "      <td>4.591752</td>\n",
       "    </tr>\n",
       "    <tr>\n",
       "      <th>0</th>\n",
       "      <td>1178</td>\n",
       "      <td>12</td>\n",
       "      <td>4.808807</td>\n",
       "      <td>4.520132</td>\n",
       "    </tr>\n",
       "    <tr>\n",
       "      <th>3</th>\n",
       "      <td>7121</td>\n",
       "      <td>4</td>\n",
       "      <td>5.000000</td>\n",
       "      <td>4.500000</td>\n",
       "    </tr>\n",
       "    <tr>\n",
       "      <th>2</th>\n",
       "      <td>6460</td>\n",
       "      <td>5</td>\n",
       "      <td>4.844207</td>\n",
       "      <td>4.396993</td>\n",
       "    </tr>\n",
       "    <tr>\n",
       "      <th>4</th>\n",
       "      <td>115122</td>\n",
       "      <td>3</td>\n",
       "      <td>4.813285</td>\n",
       "      <td>4.235934</td>\n",
       "    </tr>\n",
       "  </tbody>\n",
       "</table>\n",
       "</div>"
      ],
      "text/plain": [
       "   movieId  rating_count  predicted_ratings  corrected_ratings\n",
       "1     3404             6           5.000000           4.591752\n",
       "0     1178            12           4.808807           4.520132\n",
       "3     7121             4           5.000000           4.500000\n",
       "2     6460             5           4.844207           4.396993\n",
       "4   115122             3           4.813285           4.235934"
      ]
     },
     "execution_count": 38,
     "metadata": {},
     "output_type": "execute_result"
    }
   ],
   "source": [
    "# Applying the ranking movies function and sorting it based on corrected ratings\n",
    "ranking_movies(recommendations, final_rating)"
   ]
  },
  {
   "cell_type": "markdown",
   "metadata": {
    "id": "sYrj41MDaH9z"
   },
   "source": [
    "### **Item-Item Similarity-Based Collaborative Filtering Recommendation Systems**"
   ]
  },
  {
   "cell_type": "markdown",
   "metadata": {
    "id": "2jlpbRWaaH9z"
   },
   "source": [
    "We have seen **user-user similarity-based collaborative filtering**. Now, let us look into similarity-based collaborative filtering where similarity is computed **between items**. "
   ]
  },
  {
   "cell_type": "code",
   "execution_count": 39,
   "metadata": {
    "colab": {
     "base_uri": "https://localhost:8080/"
    },
    "id": "0YQs7V3XaH9z",
    "outputId": "abc9b5b9-856d-45c7-ed84-b405080da2cb"
   },
   "outputs": [
    {
     "name": "stdout",
     "output_type": "stream",
     "text": [
      "RMSE: 0.9800\n",
      "Precision:  0.609\n",
      "Recall:  0.464\n",
      "F_1 score:  0.527\n"
     ]
    }
   ],
   "source": [
    "# Declaring the similarity options\n",
    "sim_options = {'name': 'cosine',\n",
    "               'user_based': False}\n",
    "\n",
    "# The KNN algorithm is used to find desired similar items\n",
    "sim_item_item = KNNBasic(sim_options = sim_options, random_state = 1, verbose = False)\n",
    "\n",
    "# Train the algorithm on the trainset, and predict ratings for the testset\n",
    "sim_item_item.fit(trainset)\n",
    "\n",
    "# Let us compute precision@k, recall@k, and f_1 score with k = 10\n",
    "precision_recall_at_k(sim_item_item)"
   ]
  },
  {
   "cell_type": "markdown",
   "metadata": {
    "id": "YtuaRPxzaH9z"
   },
   "source": [
    "- Here, **F_1 score** of the **baseline model** is **~0.53**. We will try to improve this later by tuning different hyperparameters of this algorithm using **GridSearchCV**."
   ]
  },
  {
   "cell_type": "markdown",
   "metadata": {
    "id": "f2JT8eMmaH90"
   },
   "source": [
    "Let's now **predict the rating for the user with `userId = 4` and the movie with `movieId = 10`** as shown below. Here, the user has already interacted or watched the movie with movieId 10."
   ]
  },
  {
   "cell_type": "code",
   "execution_count": 40,
   "metadata": {
    "colab": {
     "base_uri": "https://localhost:8080/"
    },
    "id": "SwtsaWqIaH90",
    "outputId": "5c2563d6-a45c-4307-8a32-65130b1050e1"
   },
   "outputs": [
    {
     "name": "stdout",
     "output_type": "stream",
     "text": [
      "user: 4          item: 10         r_ui = 4.00   est = 3.63   {'actual_k': 40, 'was_impossible': False}\n"
     ]
    },
    {
     "data": {
      "text/plain": [
       "Prediction(uid=4, iid=10, r_ui=4, est=3.6257369831511945, details={'actual_k': 40, 'was_impossible': False})"
      ]
     },
     "execution_count": 40,
     "metadata": {},
     "output_type": "execute_result"
    }
   ],
   "source": [
    "# Predicting rating for a sample user with an interacted movie\n",
    "sim_item_item.predict(4, 10, r_ui = 4, verbose = True)"
   ]
  },
  {
   "cell_type": "markdown",
   "metadata": {
    "id": "-3ko6T4baH90"
   },
   "source": [
    "- The above output shows that **the actual rating for this user-item pair is 4, and the predicted rating is close to that**."
   ]
  },
  {
   "cell_type": "markdown",
   "metadata": {
    "id": "5-ab6HRbaH90"
   },
   "source": [
    "Below, we are **predicting the rating for the same `userId = 4` but for a movie with which this user has not interacted yet, i.e., `movieId = 3`**. "
   ]
  },
  {
   "cell_type": "code",
   "execution_count": 41,
   "metadata": {
    "colab": {
     "base_uri": "https://localhost:8080/"
    },
    "id": "Dp4e8HAHaH90",
    "outputId": "c233fa73-c640-483d-a848-c08a2076aae1"
   },
   "outputs": [
    {
     "name": "stdout",
     "output_type": "stream",
     "text": [
      "user: 4          item: 3          r_ui = None   est = 3.67   {'actual_k': 40, 'was_impossible': False}\n"
     ]
    },
    {
     "data": {
      "text/plain": [
       "Prediction(uid=4, iid=3, r_ui=None, est=3.6748659322681623, details={'actual_k': 40, 'was_impossible': False})"
      ]
     },
     "execution_count": 41,
     "metadata": {},
     "output_type": "execute_result"
    }
   ],
   "source": [
    "# Predicting rating for a sample user with a non interacted movie\n",
    "sim_item_item.predict(4, 3, verbose = True)"
   ]
  },
  {
   "cell_type": "markdown",
   "metadata": {
    "id": "4hEClBiDaH91"
   },
   "source": [
    "### **Improving similarity-based recommendation system by tuning its hyperparameters**"
   ]
  },
  {
   "cell_type": "markdown",
   "metadata": {
    "id": "E_E-hcUAaH91"
   },
   "source": [
    "Below, we will be **tuning hyperparameters of the `KNNBasic` algorithm**."
   ]
  },
  {
   "cell_type": "code",
   "execution_count": null,
   "metadata": {
    "colab": {
     "base_uri": "https://localhost:8080/"
    },
    "id": "tSh9eLu4aH91",
    "outputId": "d2646607-27be-4cae-f0ac-e6ae524042cd"
   },
   "outputs": [],
   "source": [
    "# Setting up parameter grid to tune the hyperparameters\n",
    "param_grid = {'k': [10, 20, 30], 'min_k': [3, 6, 9],\n",
    "              'sim_options': {'name': ['msd', 'cosine'],\n",
    "                              'user_based': [False]}\n",
    "              }\n",
    "\n",
    "# Performing 3-Fold cross validation to tune the hyperparameters\n",
    "gs = GridSearchCV(KNNBasic, param_grid, measures = ['rmse'], cv = 3, n_jobs = -1)\n",
    "\n",
    "# Fitting the model on the data\n",
    "gs.fit(data)\n",
    "\n",
    "# Print the best RMSE score\n",
    "print(gs.best_score['rmse'])\n",
    "\n",
    "# Print the combination of parameters that gave the best RMSE score\n",
    "print(gs.best_params['rmse'])"
   ]
  },
  {
   "cell_type": "markdown",
   "metadata": {
    "id": "vy3lqJOnaH92"
   },
   "source": [
    "Once the **grid search** is complete, we can get the **optimal values for each of those hyperparameters as shown above**."
   ]
  },
  {
   "cell_type": "markdown",
   "metadata": {
    "id": "yjtk13ECaH92"
   },
   "source": [
    "Now, let's build the model using the **optimal values of the hyperparameters**, which we received using the grid search cross-validation."
   ]
  },
  {
   "cell_type": "code",
   "execution_count": null,
   "metadata": {
    "colab": {
     "base_uri": "https://localhost:8080/"
    },
    "id": "ejHcKnf6aH92",
    "outputId": "621e8c24-57cf-4513-d628-e174290f46ef"
   },
   "outputs": [],
   "source": [
    "# Using the optimal similarity measure for item-item based collaborative filtering\n",
    "sim_options = {'name': 'msd',\n",
    "               'user_based': False}\n",
    "\n",
    "# Creating an instance of KNNBasic with optimal hyperparameter values\n",
    "sim_item_item_optimized = KNNBasic(sim_options = sim_options, k = 30, min_k = 6, random_state = 1, verbose = False)\n",
    "\n",
    "# Training the algorithm on the trainset\n",
    "sim_item_item_optimized.fit(trainset)\n",
    "\n",
    "# Let us compute precision@k, recall@k, and f_1 score with k = 10\n",
    "precision_recall_at_k(sim_item_item_optimized)"
   ]
  },
  {
   "cell_type": "markdown",
   "metadata": {
    "id": "x-sGfUhPaH92"
   },
   "source": [
    "- We can observe that after tuning hyperparameters, **F_1 score of the model is better than the baseline model**. Along with this, **the RMSE of the model has gone down in comparison to the model with default hyperparameters**. Hence, we can say that the model performance has improved after hyperparameter tuning."
   ]
  },
  {
   "cell_type": "markdown",
   "metadata": {
    "id": "10mZxpvUaH92"
   },
   "source": [
    "Let's now predict the **rating for the user with `userId = 4` and the movie with `movieId = 10`** using the **optimized model** as shown below."
   ]
  },
  {
   "cell_type": "code",
   "execution_count": null,
   "metadata": {
    "colab": {
     "base_uri": "https://localhost:8080/"
    },
    "id": "0DEjFZd6aH93",
    "outputId": "5b90007d-3ef2-4720-c102-4dcf6bd3ab2c"
   },
   "outputs": [],
   "source": [
    "sim_item_item_optimized.predict(4, 10, r_ui = 4, verbose = True)"
   ]
  },
  {
   "cell_type": "markdown",
   "metadata": {
    "id": "2WtCN-44aH93"
   },
   "source": [
    "- We observe that the predicted rating by the baseline model was closer to the actual rating in comparison to that by the optimized model. This might be because, although the overall score has increased, the prediction for this particular user is not that good."
   ]
  },
  {
   "cell_type": "markdown",
   "metadata": {
    "id": "4Cqtk4BqaH93"
   },
   "source": [
    "Below we are **predicting the rating** for the same **`userId = 4`** but for a movie which this user **has not interacted before**, i.e., `movieId = 3`, by using the optimized model as shown below. "
   ]
  },
  {
   "cell_type": "code",
   "execution_count": null,
   "metadata": {
    "colab": {
     "base_uri": "https://localhost:8080/"
    },
    "id": "3hbmeVRRaH93",
    "outputId": "204f206b-9a87-44ed-e526-7ed0ac01332b"
   },
   "outputs": [],
   "source": [
    "sim_item_item_optimized.predict(4, 3, verbose = True)"
   ]
  },
  {
   "cell_type": "markdown",
   "metadata": {
    "id": "YffNVb0jaH94"
   },
   "source": [
    "### **Identifying similar items to a given item (nearest neighbors)**"
   ]
  },
  {
   "cell_type": "markdown",
   "metadata": {
    "id": "naxI6LZVaH94"
   },
   "source": [
    "We can also find out **similar items** to a given item or its nearest neighbors based on this **KNNBasic algorithm**. Below, we are finding the 5 most similar users to `userId = 4` based on the `msd` distance metric."
   ]
  },
  {
   "cell_type": "code",
   "execution_count": null,
   "metadata": {
    "colab": {
     "base_uri": "https://localhost:8080/"
    },
    "id": "Q9PO2BBPaH94",
    "outputId": "6a91e769-9c59-4154-878c-d856f97fd3e7"
   },
   "outputs": [],
   "source": [
    "sim_item_item_optimized.get_neighbors(4, k = 5)"
   ]
  },
  {
   "cell_type": "markdown",
   "metadata": {
    "id": "Jsj60aU6aH94"
   },
   "source": [
    "#### **Predicting top 5 movies for userId = 4 using the similarity-based recommendation system.**"
   ]
  },
  {
   "cell_type": "code",
   "execution_count": null,
   "metadata": {
    "id": "rrGwnGv8aH94"
   },
   "outputs": [],
   "source": [
    "# Making top 5 recommendations for userId 4 using the similarity-based recommendation system\n",
    "recommendations = get_recommendations(rating, 4, 5, sim_item_item_optimized)"
   ]
  },
  {
   "cell_type": "code",
   "execution_count": null,
   "metadata": {
    "colab": {
     "base_uri": "https://localhost:8080/",
     "height": 206
    },
    "id": "OAKbHssdaH94",
    "outputId": "827832d9-65dd-4757-8113-8a005e8e99c9"
   },
   "outputs": [],
   "source": [
    "# Building the dataframe for above recommendations with columns \"movieId\" and \"predicted_ratings\"\n",
    "pd.DataFrame(recommendations, columns = ['movieId', 'predicted_ratings'])"
   ]
  },
  {
   "cell_type": "code",
   "execution_count": null,
   "metadata": {
    "colab": {
     "base_uri": "https://localhost:8080/",
     "height": 206
    },
    "id": "613jdftVaH94",
    "outputId": "5e653ac0-56e6-4963-fa3b-89e5526b1218"
   },
   "outputs": [],
   "source": [
    "# Applying the \"ranking_movies\" function and sorting it based on corrected ratings\n",
    "ranking_movies(recommendations, final_rating)"
   ]
  },
  {
   "cell_type": "markdown",
   "metadata": {
    "id": "43HUDVQZaH95"
   },
   "source": [
    "Now, as we have seen **similarity-based collaborative filtering algorithms**, let us now get into the **model-based collaborative filtering algorithm**."
   ]
  },
  {
   "cell_type": "markdown",
   "metadata": {
    "id": "rKgJpSA9vOOL"
   },
   "source": [
    "## **Model Based Collaborative Filtering - Matrix Factorization**"
   ]
  },
  {
   "cell_type": "markdown",
   "metadata": {
    "id": "YF6ZGyqhCAob"
   },
   "source": [
    "Model-based Collaborative Filtering is a **personalized recommendation system**, the recommendations are based on the past behavior of the user and it is not dependent on any additional information. We use **latent features** to find recommendations for each user."
   ]
  },
  {
   "cell_type": "markdown",
   "metadata": {
    "id": "uxGWVpOMvOOL"
   },
   "source": [
    "**Latent Features:** These are the features that are not present in the original data but are inferred from it. They are named after they are created. For example:"
   ]
  },
  {
   "cell_type": "markdown",
   "metadata": {
    "id": "ZfVDC0IuvOOL"
   },
   "source": [
    "![test_image](https://raw.githubusercontent.com/GL-ACADOPS/RS-IMAGES/main/CF3.PNG)"
   ]
  },
  {
   "cell_type": "markdown",
   "metadata": {
    "id": "W2TTW8YfvOOL"
   },
   "source": [
    "Now, if we notice the above movies closely:"
   ]
  },
  {
   "cell_type": "markdown",
   "metadata": {
    "id": "RDcl6w2WvOOL"
   },
   "source": [
    "![test_image](https://raw.githubusercontent.com/GL-ACADOPS/RS-IMAGES/main/CF4.PNG)"
   ]
  },
  {
   "cell_type": "markdown",
   "metadata": {
    "id": "3l7fsZWNvOOL"
   },
   "source": [
    "Here, **Action**, **Romance**, **Suspense**, and **Comedy** are latent features of the corresponding movies. Similarly, we can compute the latent features for users as shown below:"
   ]
  },
  {
   "cell_type": "markdown",
   "metadata": {
    "id": "0Ad4w7bvvOOL"
   },
   "source": [
    "![test_image](https://raw.githubusercontent.com/GL-ACADOPS/RS-IMAGES/main/CF5.PNG)"
   ]
  },
  {
   "cell_type": "markdown",
   "metadata": {
    "id": "n4Otha8ovOOL"
   },
   "source": [
    "### **Singular Value Decomposition (SVD)**"
   ]
  },
  {
   "cell_type": "markdown",
   "metadata": {
    "id": "3sGl3QkLvOOL"
   },
   "source": [
    "SVD is used to **compute the latent features** from the **user-item interaction matrix** that we learned earlier. But SVD does not work when we **miss values** in the **user-item interaction matrix**."
   ]
  },
  {
   "cell_type": "markdown",
   "metadata": {
    "id": "C80zDC6xvOOL"
   },
   "source": [
    "First, we need to convert the below movie-rating dataset:"
   ]
  },
  {
   "cell_type": "markdown",
   "metadata": {
    "id": "xA_MGBrwvOOL"
   },
   "source": [
    "![test_image](https://raw.githubusercontent.com/GL-ACADOPS/RS-IMAGES/main/CF3.PNG)"
   ]
  },
  {
   "cell_type": "markdown",
   "metadata": {
    "id": "3q39l4__vOOL"
   },
   "source": [
    "into a user-item interaction matrix as shown below:"
   ]
  },
  {
   "cell_type": "markdown",
   "metadata": {
    "id": "kAz3MNfEvOOL"
   },
   "source": [
    "![test_image](https://raw.githubusercontent.com/GL-ACADOPS/RS-IMAGES/main/CF6.PNG)"
   ]
  },
  {
   "cell_type": "markdown",
   "metadata": {
    "id": "6piwQzq3vOOL"
   },
   "source": [
    "We have already done this while computing cosine similarities."
   ]
  },
  {
   "cell_type": "markdown",
   "metadata": {
    "id": "gOzTLIfIvOOL"
   },
   "source": [
    "**SVD decomposes the above matrix into three separate matrices:**\n",
    "- U matrix\n",
    "- Sigma matrix\n",
    "- V transpose matrix"
   ]
  },
  {
   "cell_type": "markdown",
   "metadata": {
    "id": "IVq1fCrBvOOL"
   },
   "source": [
    "#### **U-matrix**"
   ]
  },
  {
   "cell_type": "markdown",
   "metadata": {
    "id": "Y9wsChCmvOOL"
   },
   "source": [
    "![test_image](https://raw.githubusercontent.com/GL-ACADOPS/RS-IMAGES/main/CF7.PNG)"
   ]
  },
  {
   "cell_type": "markdown",
   "metadata": {
    "id": "hA1dXvYXvOOL"
   },
   "source": [
    "U-matrix is a matrix with dimension m x k, where:\n",
    "- m is the number of users\n",
    "- k is the number of latent features"
   ]
  },
  {
   "cell_type": "markdown",
   "metadata": {
    "id": "dplq-n9dvOOL"
   },
   "source": [
    "#### **Sigma-matrix**"
   ]
  },
  {
   "cell_type": "markdown",
   "metadata": {
    "id": "kB6jCN5svOOL"
   },
   "source": [
    "![test_image](https://raw.githubusercontent.com/GL-ACADOPS/RS-IMAGES/main/CF8.PNG)"
   ]
  },
  {
   "cell_type": "markdown",
   "metadata": {
    "id": "-twhbZ3wvOOL"
   },
   "source": [
    "Sigma-matrix is a matrix with dimension k x k, where:\n",
    "- k is the number of latent features\n",
    "- Each diagonal entry is a singular value of the original interaction matrix"
   ]
  },
  {
   "cell_type": "markdown",
   "metadata": {
    "id": "nr0dF0XcvOOL"
   },
   "source": [
    "#### **V-transpose matrix**"
   ]
  },
  {
   "cell_type": "markdown",
   "metadata": {
    "id": "hz82XFEgvOOL"
   },
   "source": [
    "![test_image](https://raw.githubusercontent.com/GL-ACADOPS/RS-IMAGES/main/CF9.PNG)"
   ]
  },
  {
   "cell_type": "markdown",
   "metadata": {
    "id": "o9B1119q2N-M"
   },
   "source": [
    "V-transpose matrix is a matrix with dimension k x n matrix, where:\n",
    "- k is the number of latent features\n",
    "- n is the number of items"
   ]
  },
  {
   "cell_type": "markdown",
   "metadata": {
    "id": "uOtkUXmAnVNL"
   },
   "source": [
    "### **Building a baseline matrix factorization recommendation system**"
   ]
  },
  {
   "cell_type": "code",
   "execution_count": null,
   "metadata": {
    "colab": {
     "base_uri": "https://localhost:8080/"
    },
    "id": "07-2PT5Ssjqm",
    "outputId": "e448412f-ca23-401a-b2c9-7f066a50343f"
   },
   "outputs": [],
   "source": [
    "# Using SVD with matrix factorization\n",
    "svd = SVD(random_state = 1)\n",
    "\n",
    "# Training the algorithm on the training dataset\n",
    "svd.fit(trainset)\n",
    "\n",
    "# Let us compute precision@k, recall@k, and f_1 score with k = 10\n",
    "precision_recall_at_k(svd)"
   ]
  },
  {
   "cell_type": "markdown",
   "metadata": {
    "id": "BQ6fTuCDnVNL"
   },
   "source": [
    "- We can observe that the **F_1 score** for the matrix factorization model on the test set is lower in comparison to the F_1 score for the user-user-similarity recommendation system and optimized user-user similarity-based recommendation system."
   ]
  },
  {
   "cell_type": "markdown",
   "metadata": {
    "id": "HD2AU1DnnVNM"
   },
   "source": [
    "Let's now predict the rating for the user with **`userId = 4`** and the movie with **`movieId = 10`** as shown below. Here, the user has already rated the movie."
   ]
  },
  {
   "cell_type": "code",
   "execution_count": null,
   "metadata": {
    "colab": {
     "base_uri": "https://localhost:8080/"
    },
    "id": "yWIhfdxXsjqm",
    "outputId": "3d5615ba-2844-4a73-b6f1-aefe6b4351b7"
   },
   "outputs": [],
   "source": [
    "# Making prediction for userId 4 and movieId 10\n",
    "svd.predict(4, 10, r_ui = 4, verbose = True)"
   ]
  },
  {
   "cell_type": "markdown",
   "metadata": {
    "id": "oIjzqDY5nVNM"
   },
   "source": [
    "- The actual rating for this user-item pair is 4 and the predicted rating is far from the same. It seems that the model has under-estimated the rating. We will try to fix this by **tuning the hyperparameters** of the model using GridSearchCV."
   ]
  },
  {
   "cell_type": "markdown",
   "metadata": {
    "id": "I1aYxVeMnVNM"
   },
   "source": [
    "Below, we are predicting rating for the same `userId = 4` but for a movie which this user has not interacted before, i.e., `movieId = 3`, as shown below. "
   ]
  },
  {
   "cell_type": "code",
   "execution_count": null,
   "metadata": {
    "colab": {
     "base_uri": "https://localhost:8080/"
    },
    "id": "APm-uMSvcAMf",
    "outputId": "d7cf7e8b-8b54-4054-dc2a-52bd91b8a9c0"
   },
   "outputs": [],
   "source": [
    "# Making prediction for userid 4 and movieId 3\n",
    "svd.predict(4, 3, verbose = True)"
   ]
  },
  {
   "cell_type": "markdown",
   "metadata": {
    "id": "x13Eb9Owvpcw"
   },
   "source": [
    "### **Improving matrix factorization based recommendation system by tuning its hyperparameters**"
   ]
  },
  {
   "cell_type": "markdown",
   "metadata": {
    "id": "qbd3L1d2nVNM"
   },
   "source": [
    "In SVD, rating is predicted as: "
   ]
  },
  {
   "cell_type": "markdown",
   "metadata": {
    "id": "Wp38lmEqnVNM"
   },
   "source": [
    "$$\\hat{r}_{u i}=\\mu+b_{u}+b_{i}+q_{i}^{T} p_{u}$$"
   ]
  },
  {
   "cell_type": "markdown",
   "metadata": {
    "id": "bHVAYuFznVNN"
   },
   "source": [
    "If user $u$ is unknown, then the bias $b_{u}$ and the factors $p_{u}$ are assumed to be zero. The same applies for item $i$ with $b_{i}$ and $q_{i}$."
   ]
  },
  {
   "cell_type": "markdown",
   "metadata": {
    "id": "jCfY5mr7nVNN"
   },
   "source": [
    "To estimate all the unknown, we minimize the following regularized squared error:"
   ]
  },
  {
   "cell_type": "markdown",
   "metadata": {
    "id": "1WyyjmK7nVNN"
   },
   "source": [
    "$$\\sum_{r_{u i} \\in R_{\\text {train }}}\\left(r_{u i}-\\hat{r}_{u i}\\right)^{2}+\\lambda\\left(b_{i}^{2}+b_{u}^{2}+\\left\\|q_{i}\\right\\|^{2}+\\left\\|p_{u}\\right\\|^{2}\\right)$$"
   ]
  },
  {
   "cell_type": "markdown",
   "metadata": {
    "id": "-GBMNL9qnVNN"
   },
   "source": [
    "The minimization is performed by a very straightforward **stochastic gradient descent**:"
   ]
  },
  {
   "cell_type": "markdown",
   "metadata": {
    "id": "CwJJRsJGnVNN"
   },
   "source": [
    "$$\\begin{aligned} b_{u} & \\leftarrow b_{u}+\\gamma\\left(e_{u i}-\\lambda b_{u}\\right) \\\\ b_{i} & \\leftarrow b_{i}+\\gamma\\left(e_{u i}-\\lambda b_{i}\\right) \\\\ p_{u} & \\leftarrow p_{u}+\\gamma\\left(e_{u i} \\cdot q_{i}-\\lambda p_{u}\\right) \\\\ q_{i} & \\leftarrow q_{i}+\\gamma\\left(e_{u i} \\cdot p_{u}-\\lambda q_{i}\\right) \\end{aligned}$$"
   ]
  },
  {
   "cell_type": "markdown",
   "metadata": {
    "id": "nuRjcsUknVNN"
   },
   "source": [
    "There are many hyperparameters to tune in this algorithm, you can find the full list of hyperparameters [here](https://surprise.readthedocs.io/en/stable/matrix_factorization.html#surprise.prediction_algorithms.matrix_factorization.SVD)"
   ]
  },
  {
   "cell_type": "markdown",
   "metadata": {
    "id": "iQcDPhhcnVNN"
   },
   "source": [
    "Below we will be tuning only three hyperparameters:\n",
    "- **n_epochs**: The number of iterations of the SVD algorithm.\n",
    "- **lr_all**: The learning rate for all the parameters.\n",
    "- **reg_all**: The regularization term for all the parameters."
   ]
  },
  {
   "cell_type": "code",
   "execution_count": null,
   "metadata": {
    "colab": {
     "base_uri": "https://localhost:8080/"
    },
    "id": "4bM81V_hvtwv",
    "outputId": "470c5b5d-0381-4168-9cdd-c7e92080dee5"
   },
   "outputs": [],
   "source": [
    "# Set the parameter space to do hyperparameter tuning\n",
    "param_grid = {'n_epochs': [10, 20, 30], 'lr_all': [0.001, 0.005, 0.01],\n",
    "              'reg_all': [0.2, 0.4, 0.6]}\n",
    "\n",
    "# Performing 3-Fold gridsearch cross-validation\n",
    "gs = GridSearchCV(SVD, param_grid, measures = ['rmse'], cv = 3, n_jobs = -1)\n",
    "\n",
    "# Fitting the model on the data\n",
    "gs.fit(data)\n",
    "\n",
    "# Print the best RMSE score\n",
    "print(gs.best_score['rmse'])\n",
    "\n",
    "# Print the combination of parameters that gave the best RMSE score\n",
    "print(gs.best_params['rmse'])"
   ]
  },
  {
   "cell_type": "markdown",
   "metadata": {
    "id": "cjIaWSIAnVNN"
   },
   "source": [
    "Once the **grid search** is complete, we can get the **optimal values** for each of those hyperparameters as shown above."
   ]
  },
  {
   "cell_type": "markdown",
   "metadata": {
    "id": "KzY78HsrnVNO"
   },
   "source": [
    "Now, we will build the model using the optimal values of hyperparameters that we received from the grid search cross-validation."
   ]
  },
  {
   "cell_type": "code",
   "execution_count": null,
   "metadata": {
    "colab": {
     "base_uri": "https://localhost:8080/"
    },
    "id": "TA_7xe-nnhuu",
    "outputId": "02eb26dc-9bcb-455a-dad3-8342dc42eb1b"
   },
   "outputs": [],
   "source": [
    "# Building the optimized SVD model using optimal hyperparameters search\n",
    "svd_optimized = SVD(n_epochs = 30, lr_all = 0.01, reg_all = 0.2, random_state = 1)\n",
    "\n",
    "# Training the algorithm on the train set\n",
    "svd_optimized = svd_optimized.fit(trainset)\n",
    "\n",
    "# Let us compute precision@k, recall@k, and f_1 score with k = 10\n",
    "precision_recall_at_k(svd_optimized)"
   ]
  },
  {
   "cell_type": "markdown",
   "metadata": {
    "id": "14zkSPTIaH-C"
   },
   "source": [
    "- We can observe that **after tuning hyperparameters, the model performance has not improved by much**. "
   ]
  },
  {
   "cell_type": "markdown",
   "metadata": {
    "id": "md0-dL56nVNO"
   },
   "source": [
    "Let's now predict the rating for the user with `userId = 4` and the movie with `movieId = 10` with the optimized model as shown below."
   ]
  },
  {
   "cell_type": "code",
   "execution_count": null,
   "metadata": {
    "colab": {
     "base_uri": "https://localhost:8080/"
    },
    "id": "s6C1PAfboM8_",
    "outputId": "bd79d14f-4964-4a22-8d5f-51f2f38eddb1"
   },
   "outputs": [],
   "source": [
    "# Using svd_algo_optimized model to recommend for userId 4 and movieId 10\n",
    "svd_optimized.predict(4, 10, r_ui = 4, verbose = True)"
   ]
  },
  {
   "cell_type": "code",
   "execution_count": null,
   "metadata": {
    "colab": {
     "base_uri": "https://localhost:8080/"
    },
    "id": "k1xjn3kOoQyg",
    "outputId": "92997479-b6e3-4f80-b951-2e4eda130b30"
   },
   "outputs": [],
   "source": [
    "# Using svd_algo_optimized model to recommend for userId 4 and movieId 3 with unknown baseline rating\n",
    "svd_optimized.predict(4, 3, verbose = True)"
   ]
  },
  {
   "cell_type": "markdown",
   "metadata": {
    "id": "77iKzJSDaH-D"
   },
   "source": [
    "**Now, let's recommend the movies using the optimized svd model.**"
   ]
  },
  {
   "cell_type": "code",
   "execution_count": null,
   "metadata": {
    "id": "1LGeE2EB_n90"
   },
   "outputs": [],
   "source": [
    "# Getting top 5 recommendations for userId 4 using \"svd_algo_optimized\" algorithm\n",
    "svd_recommendations = get_recommendations(rating, 4, 5, svd_optimized)"
   ]
  },
  {
   "cell_type": "code",
   "execution_count": null,
   "metadata": {
    "colab": {
     "base_uri": "https://localhost:8080/",
     "height": 206
    },
    "id": "6ngiGSJU818M",
    "outputId": "1cae3d4c-9c07-49a2-f852-7eb1fd5f476d"
   },
   "outputs": [],
   "source": [
    "# Ranking movies based on above recommendations\n",
    "ranking_movies(svd_recommendations, final_rating)"
   ]
  },
  {
   "cell_type": "markdown",
   "metadata": {
    "id": "nnwPwgjB8DwS"
   },
   "source": [
    "## **Conclusion**"
   ]
  },
  {
   "cell_type": "markdown",
   "metadata": {
    "id": "WJ4L2PwQvOOM"
   },
   "source": [
    "In this case study, we built recommendation systems using four different algorithms. They are as follows:\n",
    "  - Rank-based using averages\n",
    "  - User-User similarity-based collaborative filtering\n",
    "  - Item-Item similarity-based collaborative filtering\n",
    "  - Model-based collaborative filtering (matrix factorization)\n",
    "\n",
    "- The **surprise** library was used to demonstrate**\"user-user similarity-based collaborative filtering,\" \"item-item similarity-based collaborative filtering,\" and \"model-based collaborative filtering (matrix factorization)\"** algorithms. For these algorithms, grid search cross-validation is used to find the optimal hyperparameters for the data, and related predictions are created using the optimal hyperparameters.\n",
    "- **For performance evaluation** of these models **precision@k and recall@k** are used. Using these two metrics, the **F_1 score** is calculated for each working model. \n",
    "- Overall, the user-user similarity-based recommendation system has given the best performance in terms of the F1-Score.\n",
    "- We can try to further improve the performance of these models using hyperparameter tuning. \n",
    "- We can also combine different recommendation techniques to build hybrid recommendation systems."
   ]
  }
 ],
 "metadata": {
  "colab": {
   "collapsed_sections": [],
   "name": "Recommendation_Systems_Case_Study_Notebook_Part1 _.ipynb",
   "provenance": []
  },
  "kernelspec": {
   "display_name": "Python 3 (ipykernel)",
   "language": "python",
   "name": "python3"
  },
  "language_info": {
   "codemirror_mode": {
    "name": "ipython",
    "version": 3
   },
   "file_extension": ".py",
   "mimetype": "text/x-python",
   "name": "python",
   "nbconvert_exporter": "python",
   "pygments_lexer": "ipython3",
   "version": "3.8.13"
  }
 },
 "nbformat": 4,
 "nbformat_minor": 4
}
